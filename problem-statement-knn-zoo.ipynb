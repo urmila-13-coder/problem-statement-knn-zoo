{
 "cells": [
  {
   "cell_type": "markdown",
   "id": "consecutive-interest",
   "metadata": {
    "ExecuteTime": {
     "end_time": "2021-04-04T03:02:49.973204Z",
     "start_time": "2021-04-04T03:02:48.803997Z"
    },
    "_cell_guid": "a60d9e08-6d99-4e67-80cb-03902b71cd12",
    "_uuid": "f6e542ec-675e-4516-9341-0310dfedbb7d",
    "papermill": {
     "duration": 0.064307,
     "end_time": "2023-12-04T16:38:53.168154",
     "exception": false,
     "start_time": "2023-12-04T16:38:53.103847",
     "status": "completed"
    },
    "tags": []
   },
   "source": [
    "# Problem statement"
   ]
  },
  {
   "cell_type": "markdown",
   "id": "suitable-mathematics",
   "metadata": {
    "_cell_guid": "0cb8d60f-e15d-4012-bdd8-4b8339b5b6b1",
    "_uuid": "31ecab35-0231-4355-af67-7f020ff690df",
    "papermill": {
     "duration": 0.060775,
     "end_time": "2023-12-04T16:38:53.291750",
     "exception": false,
     "start_time": "2023-12-04T16:38:53.230975",
     "status": "completed"
    },
    "tags": []
   },
   "source": [
    "##### Implement a KNN model to classify the animals and predict they are of which animal type. The 7 Class Types are: Mammal, Bird, Reptile, Fish, Amphibian, Bug and Invertebrate"
   ]
  },
  {
   "cell_type": "markdown",
   "id": "wireless-delta",
   "metadata": {
    "_cell_guid": "db1a0ec2-dcd6-4356-bff8-391d0da5decd",
    "_uuid": "3d5956c1-ea5f-4b15-8541-7a6ce687f906",
    "papermill": {
     "duration": 0.061893,
     "end_time": "2023-12-04T16:38:53.415324",
     "exception": false,
     "start_time": "2023-12-04T16:38:53.353431",
     "status": "completed"
    },
    "tags": []
   },
   "source": [
    "# Importing the libraries"
   ]
  },
  {
   "cell_type": "code",
   "execution_count": 1,
   "id": "guided-diving",
   "metadata": {
    "ExecuteTime": {
     "end_time": "2021-04-05T07:56:46.264956Z",
     "start_time": "2021-04-05T07:56:46.251951Z"
    },
    "_cell_guid": "c5c550b7-fb40-4126-b56d-3561d32f648c",
    "_uuid": "2d04eb9c-ef43-4a86-8fff-e0700040c11d",
    "collapsed": false,
    "execution": {
     "iopub.execute_input": "2023-12-04T16:38:53.549730Z",
     "iopub.status.busy": "2023-12-04T16:38:53.548894Z",
     "iopub.status.idle": "2023-12-04T16:38:55.270750Z",
     "shell.execute_reply": "2023-12-04T16:38:55.269199Z",
     "shell.execute_reply.started": "2023-12-04T16:32:18.804650Z"
    },
    "jupyter": {
     "outputs_hidden": false
    },
    "papermill": {
     "duration": 1.793487,
     "end_time": "2023-12-04T16:38:55.270974",
     "exception": false,
     "start_time": "2023-12-04T16:38:53.477487",
     "status": "completed"
    },
    "tags": []
   },
   "outputs": [],
   "source": [
    "from pandas import read_csv\n",
    "import numpy as np\n",
    "from sklearn.model_selection import KFold\n",
    "from sklearn.model_selection import cross_val_score\n",
    "from sklearn.neighbors import KNeighborsClassifier\n",
    "import seaborn as sn\n",
    "import pandas as pd\n",
    "from sklearn.model_selection import GridSearchCV,train_test_split\n",
    "import numpy as np\n",
    "import imblearn\n",
    "from imblearn.over_sampling import RandomOverSampler\n",
    "import matplotlib.pyplot as plt\n",
    "from sklearn.metrics import confusion_matrix, classification_report, accuracy_score\n",
    "from sklearn.preprocessing import StandardScaler"
   ]
  },
  {
   "cell_type": "markdown",
   "id": "motivated-arrival",
   "metadata": {
    "_cell_guid": "7d2aa6e4-f15b-4b5d-b5aa-e9708e70424a",
    "_uuid": "a6ba9cbd-0310-4544-bfc1-097ea8dd44f8",
    "papermill": {
     "duration": 0.063148,
     "end_time": "2023-12-04T16:38:55.397017",
     "exception": false,
     "start_time": "2023-12-04T16:38:55.333869",
     "status": "completed"
    },
    "tags": []
   },
   "source": [
    "# Loading the dataset"
   ]
  },
  {
   "cell_type": "code",
   "execution_count": 2,
   "id": "adapted-ribbon",
   "metadata": {
    "ExecuteTime": {
     "end_time": "2021-04-04T03:13:32.396046Z",
     "start_time": "2021-04-04T03:13:32.372575Z"
    },
    "_cell_guid": "0770cd5c-6fe2-47b5-b5b7-7d8ffcca720c",
    "_uuid": "92fdf4b9-b4cc-40fc-be1a-3d635595e847",
    "collapsed": false,
    "execution": {
     "iopub.execute_input": "2023-12-04T16:38:55.525459Z",
     "iopub.status.busy": "2023-12-04T16:38:55.524726Z",
     "iopub.status.idle": "2023-12-04T16:38:55.543043Z",
     "shell.execute_reply": "2023-12-04T16:38:55.543656Z",
     "shell.execute_reply.started": "2023-12-04T16:32:20.659449Z"
    },
    "jupyter": {
     "outputs_hidden": false
    },
    "papermill": {
     "duration": 0.084196,
     "end_time": "2023-12-04T16:38:55.543879",
     "exception": false,
     "start_time": "2023-12-04T16:38:55.459683",
     "status": "completed"
    },
    "tags": []
   },
   "outputs": [],
   "source": [
    "zoo = pd.read_csv('../input/zoo-animal-classification/zoo.csv')"
   ]
  },
  {
   "cell_type": "code",
   "execution_count": 3,
   "id": "tracked-patch",
   "metadata": {
    "ExecuteTime": {
     "end_time": "2021-04-04T03:13:48.897779Z",
     "start_time": "2021-04-04T03:13:48.866719Z"
    },
    "_cell_guid": "4944f8b5-2806-4c5c-a8d6-e1e7e807c25a",
    "_uuid": "685f49f6-c995-45e0-b5df-db05a31b6f2f",
    "collapsed": false,
    "execution": {
     "iopub.execute_input": "2023-12-04T16:38:55.681057Z",
     "iopub.status.busy": "2023-12-04T16:38:55.679942Z",
     "iopub.status.idle": "2023-12-04T16:38:55.708598Z",
     "shell.execute_reply": "2023-12-04T16:38:55.709237Z",
     "shell.execute_reply.started": "2023-12-04T16:32:20.694039Z"
    },
    "jupyter": {
     "outputs_hidden": false
    },
    "papermill": {
     "duration": 0.1031,
     "end_time": "2023-12-04T16:38:55.709454",
     "exception": false,
     "start_time": "2023-12-04T16:38:55.606354",
     "status": "completed"
    },
    "tags": []
   },
   "outputs": [
    {
     "data": {
      "text/html": [
       "<div>\n",
       "<style scoped>\n",
       "    .dataframe tbody tr th:only-of-type {\n",
       "        vertical-align: middle;\n",
       "    }\n",
       "\n",
       "    .dataframe tbody tr th {\n",
       "        vertical-align: top;\n",
       "    }\n",
       "\n",
       "    .dataframe thead th {\n",
       "        text-align: right;\n",
       "    }\n",
       "</style>\n",
       "<table border=\"1\" class=\"dataframe\">\n",
       "  <thead>\n",
       "    <tr style=\"text-align: right;\">\n",
       "      <th></th>\n",
       "      <th>animal_name</th>\n",
       "      <th>hair</th>\n",
       "      <th>feathers</th>\n",
       "      <th>eggs</th>\n",
       "      <th>milk</th>\n",
       "      <th>airborne</th>\n",
       "      <th>aquatic</th>\n",
       "      <th>predator</th>\n",
       "      <th>toothed</th>\n",
       "      <th>backbone</th>\n",
       "      <th>breathes</th>\n",
       "      <th>venomous</th>\n",
       "      <th>fins</th>\n",
       "      <th>legs</th>\n",
       "      <th>tail</th>\n",
       "      <th>domestic</th>\n",
       "      <th>catsize</th>\n",
       "      <th>class_type</th>\n",
       "    </tr>\n",
       "  </thead>\n",
       "  <tbody>\n",
       "    <tr>\n",
       "      <th>0</th>\n",
       "      <td>aardvark</td>\n",
       "      <td>1</td>\n",
       "      <td>0</td>\n",
       "      <td>0</td>\n",
       "      <td>1</td>\n",
       "      <td>0</td>\n",
       "      <td>0</td>\n",
       "      <td>1</td>\n",
       "      <td>1</td>\n",
       "      <td>1</td>\n",
       "      <td>1</td>\n",
       "      <td>0</td>\n",
       "      <td>0</td>\n",
       "      <td>4</td>\n",
       "      <td>0</td>\n",
       "      <td>0</td>\n",
       "      <td>1</td>\n",
       "      <td>1</td>\n",
       "    </tr>\n",
       "    <tr>\n",
       "      <th>1</th>\n",
       "      <td>antelope</td>\n",
       "      <td>1</td>\n",
       "      <td>0</td>\n",
       "      <td>0</td>\n",
       "      <td>1</td>\n",
       "      <td>0</td>\n",
       "      <td>0</td>\n",
       "      <td>0</td>\n",
       "      <td>1</td>\n",
       "      <td>1</td>\n",
       "      <td>1</td>\n",
       "      <td>0</td>\n",
       "      <td>0</td>\n",
       "      <td>4</td>\n",
       "      <td>1</td>\n",
       "      <td>0</td>\n",
       "      <td>1</td>\n",
       "      <td>1</td>\n",
       "    </tr>\n",
       "    <tr>\n",
       "      <th>2</th>\n",
       "      <td>bass</td>\n",
       "      <td>0</td>\n",
       "      <td>0</td>\n",
       "      <td>1</td>\n",
       "      <td>0</td>\n",
       "      <td>0</td>\n",
       "      <td>1</td>\n",
       "      <td>1</td>\n",
       "      <td>1</td>\n",
       "      <td>1</td>\n",
       "      <td>0</td>\n",
       "      <td>0</td>\n",
       "      <td>1</td>\n",
       "      <td>0</td>\n",
       "      <td>1</td>\n",
       "      <td>0</td>\n",
       "      <td>0</td>\n",
       "      <td>4</td>\n",
       "    </tr>\n",
       "    <tr>\n",
       "      <th>3</th>\n",
       "      <td>bear</td>\n",
       "      <td>1</td>\n",
       "      <td>0</td>\n",
       "      <td>0</td>\n",
       "      <td>1</td>\n",
       "      <td>0</td>\n",
       "      <td>0</td>\n",
       "      <td>1</td>\n",
       "      <td>1</td>\n",
       "      <td>1</td>\n",
       "      <td>1</td>\n",
       "      <td>0</td>\n",
       "      <td>0</td>\n",
       "      <td>4</td>\n",
       "      <td>0</td>\n",
       "      <td>0</td>\n",
       "      <td>1</td>\n",
       "      <td>1</td>\n",
       "    </tr>\n",
       "    <tr>\n",
       "      <th>4</th>\n",
       "      <td>boar</td>\n",
       "      <td>1</td>\n",
       "      <td>0</td>\n",
       "      <td>0</td>\n",
       "      <td>1</td>\n",
       "      <td>0</td>\n",
       "      <td>0</td>\n",
       "      <td>1</td>\n",
       "      <td>1</td>\n",
       "      <td>1</td>\n",
       "      <td>1</td>\n",
       "      <td>0</td>\n",
       "      <td>0</td>\n",
       "      <td>4</td>\n",
       "      <td>1</td>\n",
       "      <td>0</td>\n",
       "      <td>1</td>\n",
       "      <td>1</td>\n",
       "    </tr>\n",
       "  </tbody>\n",
       "</table>\n",
       "</div>"
      ],
      "text/plain": [
       "  animal_name  hair  feathers  eggs  milk  airborne  aquatic  predator  \\\n",
       "0    aardvark     1         0     0     1         0        0         1   \n",
       "1    antelope     1         0     0     1         0        0         0   \n",
       "2        bass     0         0     1     0         0        1         1   \n",
       "3        bear     1         0     0     1         0        0         1   \n",
       "4        boar     1         0     0     1         0        0         1   \n",
       "\n",
       "   toothed  backbone  breathes  venomous  fins  legs  tail  domestic  catsize  \\\n",
       "0        1         1         1         0     0     4     0         0        1   \n",
       "1        1         1         1         0     0     4     1         0        1   \n",
       "2        1         1         0         0     1     0     1         0        0   \n",
       "3        1         1         1         0     0     4     0         0        1   \n",
       "4        1         1         1         0     0     4     1         0        1   \n",
       "\n",
       "   class_type  \n",
       "0           1  \n",
       "1           1  \n",
       "2           4  \n",
       "3           1  \n",
       "4           1  "
      ]
     },
     "execution_count": 3,
     "metadata": {},
     "output_type": "execute_result"
    }
   ],
   "source": [
    "zoo.head(5)"
   ]
  },
  {
   "cell_type": "markdown",
   "id": "communist-garage",
   "metadata": {
    "ExecuteTime": {
     "end_time": "2021-04-04T03:14:02.288646Z",
     "start_time": "2021-04-04T03:14:02.266995Z"
    },
    "_cell_guid": "169d34cf-d3ff-4a99-9dda-4afc074598be",
    "_uuid": "19bba925-e253-4e88-bbca-83e237cc881d",
    "papermill": {
     "duration": 0.062091,
     "end_time": "2023-12-04T16:38:55.834135",
     "exception": false,
     "start_time": "2023-12-04T16:38:55.772044",
     "status": "completed"
    },
    "tags": []
   },
   "source": [
    "We can just peek into few data points by using head function of pandas. By default, head function return top 5 values"
   ]
  },
  {
   "cell_type": "markdown",
   "id": "military-stamp",
   "metadata": {
    "_cell_guid": "eead9379-efc8-48bf-9b68-a0c8f0d61954",
    "_uuid": "cb068faf-19dc-4cf7-981f-e0a9504548db",
    "papermill": {
     "duration": 0.061701,
     "end_time": "2023-12-04T16:38:55.957914",
     "exception": false,
     "start_time": "2023-12-04T16:38:55.896213",
     "status": "completed"
    },
    "tags": []
   },
   "source": [
    "# Data Insights"
   ]
  },
  {
   "cell_type": "code",
   "execution_count": 4,
   "id": "illegal-links",
   "metadata": {
    "ExecuteTime": {
     "end_time": "2021-04-04T03:14:32.041433Z",
     "start_time": "2021-04-04T03:14:32.019813Z"
    },
    "_cell_guid": "e2da19b9-676f-4152-a6dd-78348d6fb005",
    "_uuid": "fadd7b6e-bd71-43d2-b9bb-2d732a2f0dd6",
    "collapsed": false,
    "execution": {
     "iopub.execute_input": "2023-12-04T16:38:56.085306Z",
     "iopub.status.busy": "2023-12-04T16:38:56.084582Z",
     "iopub.status.idle": "2023-12-04T16:38:56.090443Z",
     "shell.execute_reply": "2023-12-04T16:38:56.091150Z",
     "shell.execute_reply.started": "2023-12-04T16:32:20.743496Z"
    },
    "jupyter": {
     "outputs_hidden": false
    },
    "papermill": {
     "duration": 0.071625,
     "end_time": "2023-12-04T16:38:56.091405",
     "exception": false,
     "start_time": "2023-12-04T16:38:56.019780",
     "status": "completed"
    },
    "tags": []
   },
   "outputs": [
    {
     "data": {
      "text/plain": [
       "(101, 18)"
      ]
     },
     "execution_count": 4,
     "metadata": {},
     "output_type": "execute_result"
    }
   ],
   "source": [
    "zoo.shape"
   ]
  },
  {
   "cell_type": "code",
   "execution_count": 5,
   "id": "hawaiian-silly",
   "metadata": {
    "ExecuteTime": {
     "end_time": "2021-04-04T03:14:41.641564Z",
     "start_time": "2021-04-04T03:14:41.60902Z"
    },
    "_cell_guid": "3efb2e72-4bb3-4600-9e15-04755709d1ea",
    "_uuid": "647cccff-f418-431e-8777-591dbf49bf7c",
    "collapsed": false,
    "execution": {
     "iopub.execute_input": "2023-12-04T16:38:56.223634Z",
     "iopub.status.busy": "2023-12-04T16:38:56.222892Z",
     "iopub.status.idle": "2023-12-04T16:38:56.247292Z",
     "shell.execute_reply": "2023-12-04T16:38:56.246533Z",
     "shell.execute_reply.started": "2023-12-04T16:32:20.763189Z"
    },
    "jupyter": {
     "outputs_hidden": false
    },
    "papermill": {
     "duration": 0.093032,
     "end_time": "2023-12-04T16:38:56.247461",
     "exception": false,
     "start_time": "2023-12-04T16:38:56.154429",
     "status": "completed"
    },
    "tags": []
   },
   "outputs": [
    {
     "name": "stdout",
     "output_type": "stream",
     "text": [
      "<class 'pandas.core.frame.DataFrame'>\n",
      "RangeIndex: 101 entries, 0 to 100\n",
      "Data columns (total 18 columns):\n",
      " #   Column       Non-Null Count  Dtype \n",
      "---  ------       --------------  ----- \n",
      " 0   animal_name  101 non-null    object\n",
      " 1   hair         101 non-null    int64 \n",
      " 2   feathers     101 non-null    int64 \n",
      " 3   eggs         101 non-null    int64 \n",
      " 4   milk         101 non-null    int64 \n",
      " 5   airborne     101 non-null    int64 \n",
      " 6   aquatic      101 non-null    int64 \n",
      " 7   predator     101 non-null    int64 \n",
      " 8   toothed      101 non-null    int64 \n",
      " 9   backbone     101 non-null    int64 \n",
      " 10  breathes     101 non-null    int64 \n",
      " 11  venomous     101 non-null    int64 \n",
      " 12  fins         101 non-null    int64 \n",
      " 13  legs         101 non-null    int64 \n",
      " 14  tail         101 non-null    int64 \n",
      " 15  domestic     101 non-null    int64 \n",
      " 16  catsize      101 non-null    int64 \n",
      " 17  class_type   101 non-null    int64 \n",
      "dtypes: int64(17), object(1)\n",
      "memory usage: 14.3+ KB\n"
     ]
    }
   ],
   "source": [
    "zoo.info()"
   ]
  },
  {
   "cell_type": "markdown",
   "id": "covered-adelaide",
   "metadata": {
    "_cell_guid": "6f59ed93-7a2d-4bcc-ba31-4d7cc1ffcaa9",
    "_uuid": "e168d227-b131-4b1a-88b5-9b1e56929e9b",
    "papermill": {
     "duration": 0.063172,
     "end_time": "2023-12-04T16:38:56.373211",
     "exception": false,
     "start_time": "2023-12-04T16:38:56.310039",
     "status": "completed"
    },
    "tags": []
   },
   "source": [
    "### Observations :-"
   ]
  },
  {
   "cell_type": "markdown",
   "id": "dedicated-northwest",
   "metadata": {
    "_cell_guid": "8e320f1a-69c6-4f5b-aed6-2da48c2f83a5",
    "_uuid": "1eb96572-d756-4221-973d-87efef1fb63b",
    "papermill": {
     "duration": 0.062856,
     "end_time": "2023-12-04T16:38:56.499209",
     "exception": false,
     "start_time": "2023-12-04T16:38:56.436353",
     "status": "completed"
    },
    "tags": []
   },
   "source": [
    "##### We can see there are no null values in our dataset. There are 16 variables with various traits to describe the animals. The traits are hair, feathers, eggs, milk, .......domestic,catsize.\n",
    "\n",
    "\n",
    "##### The purpose for this dataset is to be able to predict the classification(type) of the animals, based upon the variables."
   ]
  },
  {
   "cell_type": "code",
   "execution_count": 6,
   "id": "addressed-receipt",
   "metadata": {
    "ExecuteTime": {
     "end_time": "2021-04-04T03:19:11.487772Z",
     "start_time": "2021-04-04T03:19:11.461241Z"
    },
    "_cell_guid": "3f5178c5-f6eb-484d-ba90-b7d3a8a57d9a",
    "_uuid": "340eb88f-c017-49ac-889e-3068f2152ae8",
    "collapsed": false,
    "execution": {
     "iopub.execute_input": "2023-12-04T16:38:56.642417Z",
     "iopub.status.busy": "2023-12-04T16:38:56.630229Z",
     "iopub.status.idle": "2023-12-04T16:38:56.647490Z",
     "shell.execute_reply": "2023-12-04T16:38:56.646666Z",
     "shell.execute_reply.started": "2023-12-04T16:32:20.815580Z"
    },
    "jupyter": {
     "outputs_hidden": false
    },
    "papermill": {
     "duration": 0.085708,
     "end_time": "2023-12-04T16:38:56.647653",
     "exception": false,
     "start_time": "2023-12-04T16:38:56.561945",
     "status": "completed"
    },
    "tags": []
   },
   "outputs": [
    {
     "data": {
      "text/html": [
       "<div>\n",
       "<style scoped>\n",
       "    .dataframe tbody tr th:only-of-type {\n",
       "        vertical-align: middle;\n",
       "    }\n",
       "\n",
       "    .dataframe tbody tr th {\n",
       "        vertical-align: top;\n",
       "    }\n",
       "\n",
       "    .dataframe thead th {\n",
       "        text-align: right;\n",
       "    }\n",
       "</style>\n",
       "<table border=\"1\" class=\"dataframe\">\n",
       "  <thead>\n",
       "    <tr style=\"text-align: right;\">\n",
       "      <th></th>\n",
       "      <th>animal_name</th>\n",
       "      <th>hair</th>\n",
       "      <th>feathers</th>\n",
       "      <th>eggs</th>\n",
       "      <th>milk</th>\n",
       "      <th>airborne</th>\n",
       "      <th>aquatic</th>\n",
       "      <th>predator</th>\n",
       "      <th>toothed</th>\n",
       "      <th>backbone</th>\n",
       "      <th>breathes</th>\n",
       "      <th>venomous</th>\n",
       "      <th>fins</th>\n",
       "      <th>legs</th>\n",
       "      <th>tail</th>\n",
       "      <th>domestic</th>\n",
       "      <th>catsize</th>\n",
       "      <th>class_type</th>\n",
       "    </tr>\n",
       "  </thead>\n",
       "  <tbody>\n",
       "  </tbody>\n",
       "</table>\n",
       "</div>"
      ],
      "text/plain": [
       "Empty DataFrame\n",
       "Columns: [animal_name, hair, feathers, eggs, milk, airborne, aquatic, predator, toothed, backbone, breathes, venomous, fins, legs, tail, domestic, catsize, class_type]\n",
       "Index: []"
      ]
     },
     "execution_count": 6,
     "metadata": {},
     "output_type": "execute_result"
    }
   ],
   "source": [
    "zoo[zoo.duplicated()]"
   ]
  },
  {
   "cell_type": "markdown",
   "id": "former-crest",
   "metadata": {
    "_cell_guid": "2d8ffa91-68c2-4905-afe6-5217149fadf7",
    "_uuid": "c6948db3-36d9-4097-9f73-5f04d9a178ca",
    "papermill": {
     "duration": 0.063946,
     "end_time": "2023-12-04T16:38:56.775207",
     "exception": false,
     "start_time": "2023-12-04T16:38:56.711261",
     "status": "completed"
    },
    "tags": []
   },
   "source": [
    "##### There are no duplicate values in our data"
   ]
  },
  {
   "cell_type": "markdown",
   "id": "indie-collection",
   "metadata": {
    "_cell_guid": "107c1cd3-a9a7-464c-b6e4-d0f44c9ff842",
    "_uuid": "9bfc1c8b-0440-40ed-8d0a-cd243b4a79f4",
    "papermill": {
     "duration": 0.065014,
     "end_time": "2023-12-04T16:38:56.906970",
     "exception": false,
     "start_time": "2023-12-04T16:38:56.841956",
     "status": "completed"
    },
    "tags": []
   },
   "source": [
    "# Summary statistics"
   ]
  },
  {
   "cell_type": "code",
   "execution_count": 7,
   "id": "engaged-window",
   "metadata": {
    "ExecuteTime": {
     "end_time": "2021-04-04T03:21:07.59534Z",
     "start_time": "2021-04-04T03:21:07.478771Z"
    },
    "_cell_guid": "5963b52e-068c-4980-bde4-d493f54278b6",
    "_uuid": "1b716a5f-6b21-4fbb-8890-bfd639d3c310",
    "collapsed": false,
    "execution": {
     "iopub.execute_input": "2023-12-04T16:38:57.044714Z",
     "iopub.status.busy": "2023-12-04T16:38:57.043931Z",
     "iopub.status.idle": "2023-12-04T16:38:57.110443Z",
     "shell.execute_reply": "2023-12-04T16:38:57.109592Z",
     "shell.execute_reply.started": "2023-12-04T16:32:20.858925Z"
    },
    "jupyter": {
     "outputs_hidden": false
    },
    "papermill": {
     "duration": 0.140023,
     "end_time": "2023-12-04T16:38:57.110611",
     "exception": false,
     "start_time": "2023-12-04T16:38:56.970588",
     "status": "completed"
    },
    "tags": []
   },
   "outputs": [
    {
     "data": {
      "text/html": [
       "<div>\n",
       "<style scoped>\n",
       "    .dataframe tbody tr th:only-of-type {\n",
       "        vertical-align: middle;\n",
       "    }\n",
       "\n",
       "    .dataframe tbody tr th {\n",
       "        vertical-align: top;\n",
       "    }\n",
       "\n",
       "    .dataframe thead th {\n",
       "        text-align: right;\n",
       "    }\n",
       "</style>\n",
       "<table border=\"1\" class=\"dataframe\">\n",
       "  <thead>\n",
       "    <tr style=\"text-align: right;\">\n",
       "      <th></th>\n",
       "      <th>hair</th>\n",
       "      <th>feathers</th>\n",
       "      <th>eggs</th>\n",
       "      <th>milk</th>\n",
       "      <th>airborne</th>\n",
       "      <th>aquatic</th>\n",
       "      <th>predator</th>\n",
       "      <th>toothed</th>\n",
       "      <th>backbone</th>\n",
       "      <th>breathes</th>\n",
       "      <th>venomous</th>\n",
       "      <th>fins</th>\n",
       "      <th>legs</th>\n",
       "      <th>tail</th>\n",
       "      <th>domestic</th>\n",
       "      <th>catsize</th>\n",
       "      <th>class_type</th>\n",
       "    </tr>\n",
       "  </thead>\n",
       "  <tbody>\n",
       "    <tr>\n",
       "      <th>count</th>\n",
       "      <td>101.000000</td>\n",
       "      <td>101.000000</td>\n",
       "      <td>101.000000</td>\n",
       "      <td>101.000000</td>\n",
       "      <td>101.000000</td>\n",
       "      <td>101.000000</td>\n",
       "      <td>101.000000</td>\n",
       "      <td>101.000000</td>\n",
       "      <td>101.000000</td>\n",
       "      <td>101.000000</td>\n",
       "      <td>101.000000</td>\n",
       "      <td>101.000000</td>\n",
       "      <td>101.000000</td>\n",
       "      <td>101.000000</td>\n",
       "      <td>101.000000</td>\n",
       "      <td>101.000000</td>\n",
       "      <td>101.000000</td>\n",
       "    </tr>\n",
       "    <tr>\n",
       "      <th>mean</th>\n",
       "      <td>0.425743</td>\n",
       "      <td>0.198020</td>\n",
       "      <td>0.584158</td>\n",
       "      <td>0.405941</td>\n",
       "      <td>0.237624</td>\n",
       "      <td>0.356436</td>\n",
       "      <td>0.554455</td>\n",
       "      <td>0.603960</td>\n",
       "      <td>0.821782</td>\n",
       "      <td>0.792079</td>\n",
       "      <td>0.079208</td>\n",
       "      <td>0.168317</td>\n",
       "      <td>2.841584</td>\n",
       "      <td>0.742574</td>\n",
       "      <td>0.128713</td>\n",
       "      <td>0.435644</td>\n",
       "      <td>2.831683</td>\n",
       "    </tr>\n",
       "    <tr>\n",
       "      <th>std</th>\n",
       "      <td>0.496921</td>\n",
       "      <td>0.400495</td>\n",
       "      <td>0.495325</td>\n",
       "      <td>0.493522</td>\n",
       "      <td>0.427750</td>\n",
       "      <td>0.481335</td>\n",
       "      <td>0.499505</td>\n",
       "      <td>0.491512</td>\n",
       "      <td>0.384605</td>\n",
       "      <td>0.407844</td>\n",
       "      <td>0.271410</td>\n",
       "      <td>0.376013</td>\n",
       "      <td>2.033385</td>\n",
       "      <td>0.439397</td>\n",
       "      <td>0.336552</td>\n",
       "      <td>0.498314</td>\n",
       "      <td>2.102709</td>\n",
       "    </tr>\n",
       "    <tr>\n",
       "      <th>min</th>\n",
       "      <td>0.000000</td>\n",
       "      <td>0.000000</td>\n",
       "      <td>0.000000</td>\n",
       "      <td>0.000000</td>\n",
       "      <td>0.000000</td>\n",
       "      <td>0.000000</td>\n",
       "      <td>0.000000</td>\n",
       "      <td>0.000000</td>\n",
       "      <td>0.000000</td>\n",
       "      <td>0.000000</td>\n",
       "      <td>0.000000</td>\n",
       "      <td>0.000000</td>\n",
       "      <td>0.000000</td>\n",
       "      <td>0.000000</td>\n",
       "      <td>0.000000</td>\n",
       "      <td>0.000000</td>\n",
       "      <td>1.000000</td>\n",
       "    </tr>\n",
       "    <tr>\n",
       "      <th>25%</th>\n",
       "      <td>0.000000</td>\n",
       "      <td>0.000000</td>\n",
       "      <td>0.000000</td>\n",
       "      <td>0.000000</td>\n",
       "      <td>0.000000</td>\n",
       "      <td>0.000000</td>\n",
       "      <td>0.000000</td>\n",
       "      <td>0.000000</td>\n",
       "      <td>1.000000</td>\n",
       "      <td>1.000000</td>\n",
       "      <td>0.000000</td>\n",
       "      <td>0.000000</td>\n",
       "      <td>2.000000</td>\n",
       "      <td>0.000000</td>\n",
       "      <td>0.000000</td>\n",
       "      <td>0.000000</td>\n",
       "      <td>1.000000</td>\n",
       "    </tr>\n",
       "    <tr>\n",
       "      <th>50%</th>\n",
       "      <td>0.000000</td>\n",
       "      <td>0.000000</td>\n",
       "      <td>1.000000</td>\n",
       "      <td>0.000000</td>\n",
       "      <td>0.000000</td>\n",
       "      <td>0.000000</td>\n",
       "      <td>1.000000</td>\n",
       "      <td>1.000000</td>\n",
       "      <td>1.000000</td>\n",
       "      <td>1.000000</td>\n",
       "      <td>0.000000</td>\n",
       "      <td>0.000000</td>\n",
       "      <td>4.000000</td>\n",
       "      <td>1.000000</td>\n",
       "      <td>0.000000</td>\n",
       "      <td>0.000000</td>\n",
       "      <td>2.000000</td>\n",
       "    </tr>\n",
       "    <tr>\n",
       "      <th>75%</th>\n",
       "      <td>1.000000</td>\n",
       "      <td>0.000000</td>\n",
       "      <td>1.000000</td>\n",
       "      <td>1.000000</td>\n",
       "      <td>0.000000</td>\n",
       "      <td>1.000000</td>\n",
       "      <td>1.000000</td>\n",
       "      <td>1.000000</td>\n",
       "      <td>1.000000</td>\n",
       "      <td>1.000000</td>\n",
       "      <td>0.000000</td>\n",
       "      <td>0.000000</td>\n",
       "      <td>4.000000</td>\n",
       "      <td>1.000000</td>\n",
       "      <td>0.000000</td>\n",
       "      <td>1.000000</td>\n",
       "      <td>4.000000</td>\n",
       "    </tr>\n",
       "    <tr>\n",
       "      <th>max</th>\n",
       "      <td>1.000000</td>\n",
       "      <td>1.000000</td>\n",
       "      <td>1.000000</td>\n",
       "      <td>1.000000</td>\n",
       "      <td>1.000000</td>\n",
       "      <td>1.000000</td>\n",
       "      <td>1.000000</td>\n",
       "      <td>1.000000</td>\n",
       "      <td>1.000000</td>\n",
       "      <td>1.000000</td>\n",
       "      <td>1.000000</td>\n",
       "      <td>1.000000</td>\n",
       "      <td>8.000000</td>\n",
       "      <td>1.000000</td>\n",
       "      <td>1.000000</td>\n",
       "      <td>1.000000</td>\n",
       "      <td>7.000000</td>\n",
       "    </tr>\n",
       "  </tbody>\n",
       "</table>\n",
       "</div>"
      ],
      "text/plain": [
       "             hair    feathers        eggs        milk    airborne     aquatic  \\\n",
       "count  101.000000  101.000000  101.000000  101.000000  101.000000  101.000000   \n",
       "mean     0.425743    0.198020    0.584158    0.405941    0.237624    0.356436   \n",
       "std      0.496921    0.400495    0.495325    0.493522    0.427750    0.481335   \n",
       "min      0.000000    0.000000    0.000000    0.000000    0.000000    0.000000   \n",
       "25%      0.000000    0.000000    0.000000    0.000000    0.000000    0.000000   \n",
       "50%      0.000000    0.000000    1.000000    0.000000    0.000000    0.000000   \n",
       "75%      1.000000    0.000000    1.000000    1.000000    0.000000    1.000000   \n",
       "max      1.000000    1.000000    1.000000    1.000000    1.000000    1.000000   \n",
       "\n",
       "         predator     toothed    backbone    breathes    venomous        fins  \\\n",
       "count  101.000000  101.000000  101.000000  101.000000  101.000000  101.000000   \n",
       "mean     0.554455    0.603960    0.821782    0.792079    0.079208    0.168317   \n",
       "std      0.499505    0.491512    0.384605    0.407844    0.271410    0.376013   \n",
       "min      0.000000    0.000000    0.000000    0.000000    0.000000    0.000000   \n",
       "25%      0.000000    0.000000    1.000000    1.000000    0.000000    0.000000   \n",
       "50%      1.000000    1.000000    1.000000    1.000000    0.000000    0.000000   \n",
       "75%      1.000000    1.000000    1.000000    1.000000    0.000000    0.000000   \n",
       "max      1.000000    1.000000    1.000000    1.000000    1.000000    1.000000   \n",
       "\n",
       "             legs        tail    domestic     catsize  class_type  \n",
       "count  101.000000  101.000000  101.000000  101.000000  101.000000  \n",
       "mean     2.841584    0.742574    0.128713    0.435644    2.831683  \n",
       "std      2.033385    0.439397    0.336552    0.498314    2.102709  \n",
       "min      0.000000    0.000000    0.000000    0.000000    1.000000  \n",
       "25%      2.000000    0.000000    0.000000    0.000000    1.000000  \n",
       "50%      4.000000    1.000000    0.000000    0.000000    2.000000  \n",
       "75%      4.000000    1.000000    0.000000    1.000000    4.000000  \n",
       "max      8.000000    1.000000    1.000000    1.000000    7.000000  "
      ]
     },
     "execution_count": 7,
     "metadata": {},
     "output_type": "execute_result"
    }
   ],
   "source": [
    "zoo.describe()"
   ]
  },
  {
   "cell_type": "markdown",
   "id": "attached-military",
   "metadata": {
    "_cell_guid": "b652faf0-80f7-49ee-8661-352f375dbfe1",
    "_uuid": "56833b02-057f-4cae-b340-236d6160f2a9",
    "papermill": {
     "duration": 0.066368,
     "end_time": "2023-12-04T16:38:57.241594",
     "exception": false,
     "start_time": "2023-12-04T16:38:57.175226",
     "status": "completed"
    },
    "tags": []
   },
   "source": [
    "##### We could see that all the feature attributes are encoded into 0 and 1 except legs. So we will use encoding technique on legs attribute as well.\n",
    "\n",
    "##### As all the other attributes are encoded using dummy encoding, we will use the same encoding for legs as well."
   ]
  },
  {
   "cell_type": "code",
   "execution_count": 8,
   "id": "proper-client",
   "metadata": {
    "ExecuteTime": {
     "end_time": "2021-04-04T03:54:39.46676Z",
     "start_time": "2021-04-04T03:54:39.419188Z"
    },
    "_cell_guid": "d355a54a-4d18-40cd-bf91-432143130206",
    "_uuid": "7313dcd5-08c7-4098-a02b-6b54753a442d",
    "collapsed": false,
    "execution": {
     "iopub.execute_input": "2023-12-04T16:38:57.388329Z",
     "iopub.status.busy": "2023-12-04T16:38:57.387309Z",
     "iopub.status.idle": "2023-12-04T16:38:57.390752Z",
     "shell.execute_reply": "2023-12-04T16:38:57.389987Z",
     "shell.execute_reply.started": "2023-12-04T16:32:21.039199Z"
    },
    "jupyter": {
     "outputs_hidden": false
    },
    "papermill": {
     "duration": 0.084462,
     "end_time": "2023-12-04T16:38:57.390916",
     "exception": false,
     "start_time": "2023-12-04T16:38:57.306454",
     "status": "completed"
    },
    "tags": []
   },
   "outputs": [],
   "source": [
    "zoo = pd.get_dummies(zoo,columns=['legs'])"
   ]
  },
  {
   "cell_type": "code",
   "execution_count": 9,
   "id": "designed-general",
   "metadata": {
    "ExecuteTime": {
     "end_time": "2021-04-04T03:54:50.727334Z",
     "start_time": "2021-04-04T03:54:50.68516Z"
    },
    "_cell_guid": "c632396a-66f0-4ecf-a271-9a39a11ca473",
    "_uuid": "47664416-5b73-4b2b-b74d-10c3fd1af32a",
    "collapsed": false,
    "execution": {
     "iopub.execute_input": "2023-12-04T16:38:57.529401Z",
     "iopub.status.busy": "2023-12-04T16:38:57.528626Z",
     "iopub.status.idle": "2023-12-04T16:38:57.549028Z",
     "shell.execute_reply": "2023-12-04T16:38:57.548309Z",
     "shell.execute_reply.started": "2023-12-04T16:32:21.063141Z"
    },
    "jupyter": {
     "outputs_hidden": false
    },
    "papermill": {
     "duration": 0.092799,
     "end_time": "2023-12-04T16:38:57.549194",
     "exception": false,
     "start_time": "2023-12-04T16:38:57.456395",
     "status": "completed"
    },
    "tags": []
   },
   "outputs": [
    {
     "data": {
      "text/html": [
       "<div>\n",
       "<style scoped>\n",
       "    .dataframe tbody tr th:only-of-type {\n",
       "        vertical-align: middle;\n",
       "    }\n",
       "\n",
       "    .dataframe tbody tr th {\n",
       "        vertical-align: top;\n",
       "    }\n",
       "\n",
       "    .dataframe thead th {\n",
       "        text-align: right;\n",
       "    }\n",
       "</style>\n",
       "<table border=\"1\" class=\"dataframe\">\n",
       "  <thead>\n",
       "    <tr style=\"text-align: right;\">\n",
       "      <th></th>\n",
       "      <th>animal_name</th>\n",
       "      <th>hair</th>\n",
       "      <th>feathers</th>\n",
       "      <th>eggs</th>\n",
       "      <th>milk</th>\n",
       "      <th>airborne</th>\n",
       "      <th>aquatic</th>\n",
       "      <th>predator</th>\n",
       "      <th>toothed</th>\n",
       "      <th>backbone</th>\n",
       "      <th>...</th>\n",
       "      <th>tail</th>\n",
       "      <th>domestic</th>\n",
       "      <th>catsize</th>\n",
       "      <th>class_type</th>\n",
       "      <th>legs_0</th>\n",
       "      <th>legs_2</th>\n",
       "      <th>legs_4</th>\n",
       "      <th>legs_5</th>\n",
       "      <th>legs_6</th>\n",
       "      <th>legs_8</th>\n",
       "    </tr>\n",
       "  </thead>\n",
       "  <tbody>\n",
       "    <tr>\n",
       "      <th>0</th>\n",
       "      <td>aardvark</td>\n",
       "      <td>1</td>\n",
       "      <td>0</td>\n",
       "      <td>0</td>\n",
       "      <td>1</td>\n",
       "      <td>0</td>\n",
       "      <td>0</td>\n",
       "      <td>1</td>\n",
       "      <td>1</td>\n",
       "      <td>1</td>\n",
       "      <td>...</td>\n",
       "      <td>0</td>\n",
       "      <td>0</td>\n",
       "      <td>1</td>\n",
       "      <td>1</td>\n",
       "      <td>0</td>\n",
       "      <td>0</td>\n",
       "      <td>1</td>\n",
       "      <td>0</td>\n",
       "      <td>0</td>\n",
       "      <td>0</td>\n",
       "    </tr>\n",
       "    <tr>\n",
       "      <th>1</th>\n",
       "      <td>antelope</td>\n",
       "      <td>1</td>\n",
       "      <td>0</td>\n",
       "      <td>0</td>\n",
       "      <td>1</td>\n",
       "      <td>0</td>\n",
       "      <td>0</td>\n",
       "      <td>0</td>\n",
       "      <td>1</td>\n",
       "      <td>1</td>\n",
       "      <td>...</td>\n",
       "      <td>1</td>\n",
       "      <td>0</td>\n",
       "      <td>1</td>\n",
       "      <td>1</td>\n",
       "      <td>0</td>\n",
       "      <td>0</td>\n",
       "      <td>1</td>\n",
       "      <td>0</td>\n",
       "      <td>0</td>\n",
       "      <td>0</td>\n",
       "    </tr>\n",
       "    <tr>\n",
       "      <th>2</th>\n",
       "      <td>bass</td>\n",
       "      <td>0</td>\n",
       "      <td>0</td>\n",
       "      <td>1</td>\n",
       "      <td>0</td>\n",
       "      <td>0</td>\n",
       "      <td>1</td>\n",
       "      <td>1</td>\n",
       "      <td>1</td>\n",
       "      <td>1</td>\n",
       "      <td>...</td>\n",
       "      <td>1</td>\n",
       "      <td>0</td>\n",
       "      <td>0</td>\n",
       "      <td>4</td>\n",
       "      <td>1</td>\n",
       "      <td>0</td>\n",
       "      <td>0</td>\n",
       "      <td>0</td>\n",
       "      <td>0</td>\n",
       "      <td>0</td>\n",
       "    </tr>\n",
       "    <tr>\n",
       "      <th>3</th>\n",
       "      <td>bear</td>\n",
       "      <td>1</td>\n",
       "      <td>0</td>\n",
       "      <td>0</td>\n",
       "      <td>1</td>\n",
       "      <td>0</td>\n",
       "      <td>0</td>\n",
       "      <td>1</td>\n",
       "      <td>1</td>\n",
       "      <td>1</td>\n",
       "      <td>...</td>\n",
       "      <td>0</td>\n",
       "      <td>0</td>\n",
       "      <td>1</td>\n",
       "      <td>1</td>\n",
       "      <td>0</td>\n",
       "      <td>0</td>\n",
       "      <td>1</td>\n",
       "      <td>0</td>\n",
       "      <td>0</td>\n",
       "      <td>0</td>\n",
       "    </tr>\n",
       "    <tr>\n",
       "      <th>4</th>\n",
       "      <td>boar</td>\n",
       "      <td>1</td>\n",
       "      <td>0</td>\n",
       "      <td>0</td>\n",
       "      <td>1</td>\n",
       "      <td>0</td>\n",
       "      <td>0</td>\n",
       "      <td>1</td>\n",
       "      <td>1</td>\n",
       "      <td>1</td>\n",
       "      <td>...</td>\n",
       "      <td>1</td>\n",
       "      <td>0</td>\n",
       "      <td>1</td>\n",
       "      <td>1</td>\n",
       "      <td>0</td>\n",
       "      <td>0</td>\n",
       "      <td>1</td>\n",
       "      <td>0</td>\n",
       "      <td>0</td>\n",
       "      <td>0</td>\n",
       "    </tr>\n",
       "  </tbody>\n",
       "</table>\n",
       "<p>5 rows × 23 columns</p>\n",
       "</div>"
      ],
      "text/plain": [
       "  animal_name  hair  feathers  eggs  milk  airborne  aquatic  predator  \\\n",
       "0    aardvark     1         0     0     1         0        0         1   \n",
       "1    antelope     1         0     0     1         0        0         0   \n",
       "2        bass     0         0     1     0         0        1         1   \n",
       "3        bear     1         0     0     1         0        0         1   \n",
       "4        boar     1         0     0     1         0        0         1   \n",
       "\n",
       "   toothed  backbone  ...  tail  domestic  catsize  class_type  legs_0  \\\n",
       "0        1         1  ...     0         0        1           1       0   \n",
       "1        1         1  ...     1         0        1           1       0   \n",
       "2        1         1  ...     1         0        0           4       1   \n",
       "3        1         1  ...     0         0        1           1       0   \n",
       "4        1         1  ...     1         0        1           1       0   \n",
       "\n",
       "   legs_2  legs_4  legs_5  legs_6  legs_8  \n",
       "0       0       1       0       0       0  \n",
       "1       0       1       0       0       0  \n",
       "2       0       0       0       0       0  \n",
       "3       0       1       0       0       0  \n",
       "4       0       1       0       0       0  \n",
       "\n",
       "[5 rows x 23 columns]"
      ]
     },
     "execution_count": 9,
     "metadata": {},
     "output_type": "execute_result"
    }
   ],
   "source": [
    "zoo.head()"
   ]
  },
  {
   "cell_type": "markdown",
   "id": "studied-gazette",
   "metadata": {
    "_cell_guid": "b89d55ec-ac5f-40bd-9c16-6d7aa4c6f557",
    "_uuid": "5bd42767-cfea-4bf7-b018-74666ba98fb9",
    "papermill": {
     "duration": 0.064716,
     "end_time": "2023-12-04T16:38:57.679616",
     "exception": false,
     "start_time": "2023-12-04T16:38:57.614900",
     "status": "completed"
    },
    "tags": []
   },
   "source": [
    "# Understanding the target variable"
   ]
  },
  {
   "cell_type": "markdown",
   "id": "prompt-russia",
   "metadata": {
    "_cell_guid": "b1966d7a-a354-4df3-885d-1c0d415cf61e",
    "_uuid": "2c51472f-6266-44cf-9bc3-dbd0eb30610c",
    "papermill": {
     "duration": 0.065288,
     "end_time": "2023-12-04T16:38:57.809940",
     "exception": false,
     "start_time": "2023-12-04T16:38:57.744652",
     "status": "completed"
    },
    "tags": []
   },
   "source": [
    "##### Our main objective is to be able to predict the classification(type) of the animals, based upon the variables.\n",
    "\n",
    "##### value_counts() method shows how many samples it is for the animal type."
   ]
  },
  {
   "cell_type": "code",
   "execution_count": 10,
   "id": "specific-latvia",
   "metadata": {
    "ExecuteTime": {
     "end_time": "2021-04-04T09:06:06.902791Z",
     "start_time": "2021-04-04T09:06:06.889858Z"
    },
    "_cell_guid": "1f1eb1b6-fa77-480a-b745-8344d0683b57",
    "_uuid": "5aa287f5-ba80-4bb1-8502-02a0fda1d915",
    "collapsed": false,
    "execution": {
     "iopub.execute_input": "2023-12-04T16:38:57.949008Z",
     "iopub.status.busy": "2023-12-04T16:38:57.948242Z",
     "iopub.status.idle": "2023-12-04T16:38:57.953550Z",
     "shell.execute_reply": "2023-12-04T16:38:57.952816Z",
     "shell.execute_reply.started": "2023-12-04T16:32:21.102763Z"
    },
    "jupyter": {
     "outputs_hidden": false
    },
    "papermill": {
     "duration": 0.078405,
     "end_time": "2023-12-04T16:38:57.953721",
     "exception": false,
     "start_time": "2023-12-04T16:38:57.875316",
     "status": "completed"
    },
    "tags": []
   },
   "outputs": [
    {
     "data": {
      "text/plain": [
       "1    41\n",
       "2    20\n",
       "4    13\n",
       "7    10\n",
       "6     8\n",
       "3     5\n",
       "5     4\n",
       "Name: class_type, dtype: int64"
      ]
     },
     "execution_count": 10,
     "metadata": {},
     "output_type": "execute_result"
    }
   ],
   "source": [
    "zoo['class_type'].value_counts()"
   ]
  },
  {
   "cell_type": "markdown",
   "id": "thousand-reform",
   "metadata": {
    "_cell_guid": "aab2dbcc-656a-4a91-9f8d-8229b5562781",
    "_uuid": "01886106-765b-4831-8eb9-ac123d5f0237",
    "papermill": {
     "duration": 0.064897,
     "end_time": "2023-12-04T16:38:58.083984",
     "exception": false,
     "start_time": "2023-12-04T16:38:58.019087",
     "status": "completed"
    },
    "tags": []
   },
   "source": [
    "##### We could see that the type 1 counts is very high and there is huge difference between the next highest count wich is 20 for type 2. The sets of data in which classes are not evenly distributed are called imbalanced datasets.The imbalance dataset can cause high/low accuracy value of the model due to a certain class."
   ]
  },
  {
   "cell_type": "code",
   "execution_count": 11,
   "id": "unexpected-depression",
   "metadata": {
    "ExecuteTime": {
     "end_time": "2021-04-04T09:11:04.525477Z",
     "start_time": "2021-04-04T09:11:04.228864Z"
    },
    "_cell_guid": "923ff5c3-c54d-463a-bece-f6b91f1e7d9f",
    "_uuid": "a030027b-5730-4a2d-abfd-b781e393d736",
    "collapsed": false,
    "execution": {
     "iopub.execute_input": "2023-12-04T16:38:58.243571Z",
     "iopub.status.busy": "2023-12-04T16:38:58.237414Z",
     "iopub.status.idle": "2023-12-04T16:38:58.510144Z",
     "shell.execute_reply": "2023-12-04T16:38:58.509457Z",
     "shell.execute_reply.started": "2023-12-04T16:32:21.122638Z"
    },
    "jupyter": {
     "outputs_hidden": false
    },
    "papermill": {
     "duration": 0.360758,
     "end_time": "2023-12-04T16:38:58.510318",
     "exception": false,
     "start_time": "2023-12-04T16:38:58.149560",
     "status": "completed"
    },
    "tags": []
   },
   "outputs": [
    {
     "data": {
      "text/plain": [
       "<AxesSubplot:xlabel='class_type', ylabel='count'>"
      ]
     },
     "execution_count": 11,
     "metadata": {},
     "output_type": "execute_result"
    },
    {
     "data": {
      "image/png": "[encoded data removed]",
      "text/plain": [
       "<Figure size 864x504 with 1 Axes>"
      ]
     },
     "metadata": {},
     "output_type": "display_data"
    }
   ],
   "source": [
    "sn.set(style = 'whitegrid', font_scale = 1.4)\n",
    "plt.subplots(figsize = (12,7))\n",
    "sn.countplot(x = 'class_type', data = zoo, palette = 'Pastel1')"
   ]
  },
  {
   "cell_type": "markdown",
   "id": "voluntary-briefing",
   "metadata": {
    "_cell_guid": "1c03f77d-0d31-401f-9d16-e29a6378ef51",
    "_uuid": "43bb448b-b5d4-44a2-bbce-4527f6d7e52d",
    "papermill": {
     "duration": 0.066812,
     "end_time": "2023-12-04T16:38:58.645192",
     "exception": false,
     "start_time": "2023-12-04T16:38:58.578380",
     "status": "completed"
    },
    "tags": []
   },
   "source": [
    "##### We can see the count of type 1 is very high"
   ]
  },
  {
   "cell_type": "markdown",
   "id": "reserved-kuwait",
   "metadata": {
    "_cell_guid": "b249367a-52d9-4a1d-93b0-92a7a3640762",
    "_uuid": "e7536cf1-8285-46c0-92fb-d87094bf1c5f",
    "papermill": {
     "duration": 0.066304,
     "end_time": "2023-12-04T16:38:58.778370",
     "exception": false,
     "start_time": "2023-12-04T16:38:58.712066",
     "status": "completed"
    },
    "tags": []
   },
   "source": [
    "# Separating feature data and Label data  and train-test split"
   ]
  },
  {
   "cell_type": "markdown",
   "id": "incorporate-vitamin",
   "metadata": {
    "_cell_guid": "5db63ada-e1ab-41ee-a7b7-a2a8c33d981b",
    "_uuid": "6e59c3d9-8a17-4471-ac75-b9d0f20923f2",
    "papermill": {
     "duration": 0.06796,
     "end_time": "2023-12-04T16:38:58.918766",
     "exception": false,
     "start_time": "2023-12-04T16:38:58.850806",
     "status": "completed"
    },
    "tags": []
   },
   "source": [
    "##### We will separate the class label data (type) and features data as Y and X respectively. Also, we will split the dataset into training and test data. The animal_name column is not required for classification as it is not a feature, so we will drop that column as well."
   ]
  },
  {
   "cell_type": "code",
   "execution_count": 12,
   "id": "latin-nomination",
   "metadata": {
    "ExecuteTime": {
     "end_time": "2021-04-04T09:18:55.186817Z",
     "start_time": "2021-04-04T09:18:55.168832Z"
    },
    "_cell_guid": "4affdd03-351b-4faa-adde-efa20c3260c3",
    "_uuid": "56189fc3-1a87-4bba-9cf0-9f93de9f1f83",
    "collapsed": false,
    "execution": {
     "iopub.execute_input": "2023-12-04T16:38:59.060902Z",
     "iopub.status.busy": "2023-12-04T16:38:59.060014Z",
     "iopub.status.idle": "2023-12-04T16:38:59.065362Z",
     "shell.execute_reply": "2023-12-04T16:38:59.064606Z",
     "shell.execute_reply.started": "2023-12-04T16:32:21.439213Z"
    },
    "jupyter": {
     "outputs_hidden": false
    },
    "papermill": {
     "duration": 0.079865,
     "end_time": "2023-12-04T16:38:59.065523",
     "exception": false,
     "start_time": "2023-12-04T16:38:58.985658",
     "status": "completed"
    },
    "tags": []
   },
   "outputs": [
    {
     "data": {
      "text/plain": [
       "0    1\n",
       "1    1\n",
       "2    4\n",
       "3    1\n",
       "4    1\n",
       "Name: class_type, dtype: int64"
      ]
     },
     "execution_count": 12,
     "metadata": {},
     "output_type": "execute_result"
    }
   ],
   "source": [
    "Y = zoo['class_type']\n",
    "Y.head()"
   ]
  },
  {
   "cell_type": "code",
   "execution_count": 13,
   "id": "veterinary-vessel",
   "metadata": {
    "ExecuteTime": {
     "end_time": "2021-04-05T06:48:34.14283Z",
     "start_time": "2021-04-05T06:48:34.1055Z"
    },
    "_cell_guid": "b1722cec-ac69-48ae-9499-a51934a39c77",
    "_uuid": "c91249b4-285d-4b8d-9946-6df47eceedd1",
    "collapsed": false,
    "execution": {
     "iopub.execute_input": "2023-12-04T16:38:59.209597Z",
     "iopub.status.busy": "2023-12-04T16:38:59.208826Z",
     "iopub.status.idle": "2023-12-04T16:38:59.212311Z",
     "shell.execute_reply": "2023-12-04T16:38:59.211646Z",
     "shell.execute_reply.started": "2023-12-04T16:32:21.457993Z"
    },
    "jupyter": {
     "outputs_hidden": false
    },
    "papermill": {
     "duration": 0.079636,
     "end_time": "2023-12-04T16:38:59.212484",
     "exception": false,
     "start_time": "2023-12-04T16:38:59.132848",
     "status": "completed"
    },
    "tags": []
   },
   "outputs": [],
   "source": [
    "X = zoo.drop('animal_name',axis=1)"
   ]
  },
  {
   "cell_type": "code",
   "execution_count": 14,
   "id": "premier-manner",
   "metadata": {
    "ExecuteTime": {
     "end_time": "2021-04-05T06:49:17.936527Z",
     "start_time": "2021-04-05T06:49:17.922984Z"
    },
    "_cell_guid": "d789ec2c-6b90-4acf-8e29-afc5a516cc81",
    "_uuid": "72ba3f01-a7e3-4e65-920c-c01efd7a5bef",
    "collapsed": false,
    "execution": {
     "iopub.execute_input": "2023-12-04T16:38:59.357049Z",
     "iopub.status.busy": "2023-12-04T16:38:59.356029Z",
     "iopub.status.idle": "2023-12-04T16:38:59.358992Z",
     "shell.execute_reply": "2023-12-04T16:38:59.358252Z",
     "shell.execute_reply.started": "2023-12-04T16:32:21.474811Z"
    },
    "jupyter": {
     "outputs_hidden": false
    },
    "papermill": {
     "duration": 0.077232,
     "end_time": "2023-12-04T16:38:59.359151",
     "exception": false,
     "start_time": "2023-12-04T16:38:59.281919",
     "status": "completed"
    },
    "tags": []
   },
   "outputs": [],
   "source": [
    "X = X.drop('class_type',axis=1)"
   ]
  },
  {
   "cell_type": "code",
   "execution_count": 15,
   "id": "jewish-witness",
   "metadata": {
    "ExecuteTime": {
     "end_time": "2021-04-05T06:49:28.751631Z",
     "start_time": "2021-04-05T06:49:28.727207Z"
    },
    "_cell_guid": "cdcef5e3-3cf5-40b7-aa17-112a330689e4",
    "_uuid": "eb33d494-c8f2-405b-8e9b-ea392d5df342",
    "collapsed": false,
    "execution": {
     "iopub.execute_input": "2023-12-04T16:38:59.516306Z",
     "iopub.status.busy": "2023-12-04T16:38:59.515536Z",
     "iopub.status.idle": "2023-12-04T16:38:59.520447Z",
     "shell.execute_reply": "2023-12-04T16:38:59.519752Z",
     "shell.execute_reply.started": "2023-12-04T16:32:21.491381Z"
    },
    "jupyter": {
     "outputs_hidden": false
    },
    "papermill": {
     "duration": 0.093672,
     "end_time": "2023-12-04T16:38:59.520626",
     "exception": false,
     "start_time": "2023-12-04T16:38:59.426954",
     "status": "completed"
    },
    "tags": []
   },
   "outputs": [
    {
     "data": {
      "text/html": [
       "<div>\n",
       "<style scoped>\n",
       "    .dataframe tbody tr th:only-of-type {\n",
       "        vertical-align: middle;\n",
       "    }\n",
       "\n",
       "    .dataframe tbody tr th {\n",
       "        vertical-align: top;\n",
       "    }\n",
       "\n",
       "    .dataframe thead th {\n",
       "        text-align: right;\n",
       "    }\n",
       "</style>\n",
       "<table border=\"1\" class=\"dataframe\">\n",
       "  <thead>\n",
       "    <tr style=\"text-align: right;\">\n",
       "      <th></th>\n",
       "      <th>hair</th>\n",
       "      <th>feathers</th>\n",
       "      <th>eggs</th>\n",
       "      <th>milk</th>\n",
       "      <th>airborne</th>\n",
       "      <th>aquatic</th>\n",
       "      <th>predator</th>\n",
       "      <th>toothed</th>\n",
       "      <th>backbone</th>\n",
       "      <th>breathes</th>\n",
       "      <th>...</th>\n",
       "      <th>fins</th>\n",
       "      <th>tail</th>\n",
       "      <th>domestic</th>\n",
       "      <th>catsize</th>\n",
       "      <th>legs_0</th>\n",
       "      <th>legs_2</th>\n",
       "      <th>legs_4</th>\n",
       "      <th>legs_5</th>\n",
       "      <th>legs_6</th>\n",
       "      <th>legs_8</th>\n",
       "    </tr>\n",
       "  </thead>\n",
       "  <tbody>\n",
       "    <tr>\n",
       "      <th>0</th>\n",
       "      <td>1</td>\n",
       "      <td>0</td>\n",
       "      <td>0</td>\n",
       "      <td>1</td>\n",
       "      <td>0</td>\n",
       "      <td>0</td>\n",
       "      <td>1</td>\n",
       "      <td>1</td>\n",
       "      <td>1</td>\n",
       "      <td>1</td>\n",
       "      <td>...</td>\n",
       "      <td>0</td>\n",
       "      <td>0</td>\n",
       "      <td>0</td>\n",
       "      <td>1</td>\n",
       "      <td>0</td>\n",
       "      <td>0</td>\n",
       "      <td>1</td>\n",
       "      <td>0</td>\n",
       "      <td>0</td>\n",
       "      <td>0</td>\n",
       "    </tr>\n",
       "    <tr>\n",
       "      <th>1</th>\n",
       "      <td>1</td>\n",
       "      <td>0</td>\n",
       "      <td>0</td>\n",
       "      <td>1</td>\n",
       "      <td>0</td>\n",
       "      <td>0</td>\n",
       "      <td>0</td>\n",
       "      <td>1</td>\n",
       "      <td>1</td>\n",
       "      <td>1</td>\n",
       "      <td>...</td>\n",
       "      <td>0</td>\n",
       "      <td>1</td>\n",
       "      <td>0</td>\n",
       "      <td>1</td>\n",
       "      <td>0</td>\n",
       "      <td>0</td>\n",
       "      <td>1</td>\n",
       "      <td>0</td>\n",
       "      <td>0</td>\n",
       "      <td>0</td>\n",
       "    </tr>\n",
       "    <tr>\n",
       "      <th>2</th>\n",
       "      <td>0</td>\n",
       "      <td>0</td>\n",
       "      <td>1</td>\n",
       "      <td>0</td>\n",
       "      <td>0</td>\n",
       "      <td>1</td>\n",
       "      <td>1</td>\n",
       "      <td>1</td>\n",
       "      <td>1</td>\n",
       "      <td>0</td>\n",
       "      <td>...</td>\n",
       "      <td>1</td>\n",
       "      <td>1</td>\n",
       "      <td>0</td>\n",
       "      <td>0</td>\n",
       "      <td>1</td>\n",
       "      <td>0</td>\n",
       "      <td>0</td>\n",
       "      <td>0</td>\n",
       "      <td>0</td>\n",
       "      <td>0</td>\n",
       "    </tr>\n",
       "    <tr>\n",
       "      <th>3</th>\n",
       "      <td>1</td>\n",
       "      <td>0</td>\n",
       "      <td>0</td>\n",
       "      <td>1</td>\n",
       "      <td>0</td>\n",
       "      <td>0</td>\n",
       "      <td>1</td>\n",
       "      <td>1</td>\n",
       "      <td>1</td>\n",
       "      <td>1</td>\n",
       "      <td>...</td>\n",
       "      <td>0</td>\n",
       "      <td>0</td>\n",
       "      <td>0</td>\n",
       "      <td>1</td>\n",
       "      <td>0</td>\n",
       "      <td>0</td>\n",
       "      <td>1</td>\n",
       "      <td>0</td>\n",
       "      <td>0</td>\n",
       "      <td>0</td>\n",
       "    </tr>\n",
       "    <tr>\n",
       "      <th>4</th>\n",
       "      <td>1</td>\n",
       "      <td>0</td>\n",
       "      <td>0</td>\n",
       "      <td>1</td>\n",
       "      <td>0</td>\n",
       "      <td>0</td>\n",
       "      <td>1</td>\n",
       "      <td>1</td>\n",
       "      <td>1</td>\n",
       "      <td>1</td>\n",
       "      <td>...</td>\n",
       "      <td>0</td>\n",
       "      <td>1</td>\n",
       "      <td>0</td>\n",
       "      <td>1</td>\n",
       "      <td>0</td>\n",
       "      <td>0</td>\n",
       "      <td>1</td>\n",
       "      <td>0</td>\n",
       "      <td>0</td>\n",
       "      <td>0</td>\n",
       "    </tr>\n",
       "  </tbody>\n",
       "</table>\n",
       "<p>5 rows × 21 columns</p>\n",
       "</div>"
      ],
      "text/plain": [
       "   hair  feathers  eggs  milk  airborne  aquatic  predator  toothed  backbone  \\\n",
       "0     1         0     0     1         0        0         1        1         1   \n",
       "1     1         0     0     1         0        0         0        1         1   \n",
       "2     0         0     1     0         0        1         1        1         1   \n",
       "3     1         0     0     1         0        0         1        1         1   \n",
       "4     1         0     0     1         0        0         1        1         1   \n",
       "\n",
       "   breathes  ...  fins  tail  domestic  catsize  legs_0  legs_2  legs_4  \\\n",
       "0         1  ...     0     0         0        1       0       0       1   \n",
       "1         1  ...     0     1         0        1       0       0       1   \n",
       "2         0  ...     1     1         0        0       1       0       0   \n",
       "3         1  ...     0     0         0        1       0       0       1   \n",
       "4         1  ...     0     1         0        1       0       0       1   \n",
       "\n",
       "   legs_5  legs_6  legs_8  \n",
       "0       0       0       0  \n",
       "1       0       0       0  \n",
       "2       0       0       0  \n",
       "3       0       0       0  \n",
       "4       0       0       0  \n",
       "\n",
       "[5 rows x 21 columns]"
      ]
     },
     "execution_count": 15,
     "metadata": {},
     "output_type": "execute_result"
    }
   ],
   "source": [
    "X.head()"
   ]
  },
  {
   "cell_type": "code",
   "execution_count": 16,
   "id": "split-savage",
   "metadata": {
    "ExecuteTime": {
     "end_time": "2021-04-05T06:57:56.994462Z",
     "start_time": "2021-04-05T06:57:56.959629Z"
    },
    "_cell_guid": "5dd056cd-16d8-4adb-b5e2-eabdb1ca3e11",
    "_uuid": "43d2eb9c-71b7-4a82-a853-197335506a46",
    "collapsed": false,
    "execution": {
     "iopub.execute_input": "2023-12-04T16:38:59.668552Z",
     "iopub.status.busy": "2023-12-04T16:38:59.667817Z",
     "iopub.status.idle": "2023-12-04T16:38:59.670966Z",
     "shell.execute_reply": "2023-12-04T16:38:59.670302Z",
     "shell.execute_reply.started": "2023-12-04T16:32:21.526036Z"
    },
    "jupyter": {
     "outputs_hidden": false
    },
    "papermill": {
     "duration": 0.081934,
     "end_time": "2023-12-04T16:38:59.671125",
     "exception": false,
     "start_time": "2023-12-04T16:38:59.589191",
     "status": "completed"
    },
    "tags": []
   },
   "outputs": [],
   "source": [
    "X_train, X_test, Y_train, Y_test = train_test_split(X, Y, test_size = .2, random_state = 30, stratify = Y)"
   ]
  },
  {
   "cell_type": "code",
   "execution_count": 17,
   "id": "simplified-template",
   "metadata": {
    "ExecuteTime": {
     "end_time": "2021-04-05T07:00:07.584839Z",
     "start_time": "2021-04-05T07:00:07.55699Z"
    },
    "_cell_guid": "ea0ce572-9b2f-4201-9ff5-6ee967ceae44",
    "_uuid": "0ece133a-119a-427a-b24d-41a980e4b4cf",
    "collapsed": false,
    "execution": {
     "iopub.execute_input": "2023-12-04T16:38:59.831901Z",
     "iopub.status.busy": "2023-12-04T16:38:59.830714Z",
     "iopub.status.idle": "2023-12-04T16:38:59.836055Z",
     "shell.execute_reply": "2023-12-04T16:38:59.835336Z",
     "shell.execute_reply.started": "2023-12-04T16:32:21.543828Z"
    },
    "jupyter": {
     "outputs_hidden": false
    },
    "papermill": {
     "duration": 0.095887,
     "end_time": "2023-12-04T16:38:59.836208",
     "exception": false,
     "start_time": "2023-12-04T16:38:59.740321",
     "status": "completed"
    },
    "tags": []
   },
   "outputs": [
    {
     "data": {
      "text/html": [
       "<div>\n",
       "<style scoped>\n",
       "    .dataframe tbody tr th:only-of-type {\n",
       "        vertical-align: middle;\n",
       "    }\n",
       "\n",
       "    .dataframe tbody tr th {\n",
       "        vertical-align: top;\n",
       "    }\n",
       "\n",
       "    .dataframe thead th {\n",
       "        text-align: right;\n",
       "    }\n",
       "</style>\n",
       "<table border=\"1\" class=\"dataframe\">\n",
       "  <thead>\n",
       "    <tr style=\"text-align: right;\">\n",
       "      <th></th>\n",
       "      <th>hair</th>\n",
       "      <th>feathers</th>\n",
       "      <th>eggs</th>\n",
       "      <th>milk</th>\n",
       "      <th>airborne</th>\n",
       "      <th>aquatic</th>\n",
       "      <th>predator</th>\n",
       "      <th>toothed</th>\n",
       "      <th>backbone</th>\n",
       "      <th>breathes</th>\n",
       "      <th>...</th>\n",
       "      <th>fins</th>\n",
       "      <th>tail</th>\n",
       "      <th>domestic</th>\n",
       "      <th>catsize</th>\n",
       "      <th>legs_0</th>\n",
       "      <th>legs_2</th>\n",
       "      <th>legs_4</th>\n",
       "      <th>legs_5</th>\n",
       "      <th>legs_6</th>\n",
       "      <th>legs_8</th>\n",
       "    </tr>\n",
       "  </thead>\n",
       "  <tbody>\n",
       "    <tr>\n",
       "      <th>20</th>\n",
       "      <td>0</td>\n",
       "      <td>1</td>\n",
       "      <td>1</td>\n",
       "      <td>0</td>\n",
       "      <td>1</td>\n",
       "      <td>0</td>\n",
       "      <td>0</td>\n",
       "      <td>0</td>\n",
       "      <td>1</td>\n",
       "      <td>1</td>\n",
       "      <td>...</td>\n",
       "      <td>0</td>\n",
       "      <td>1</td>\n",
       "      <td>1</td>\n",
       "      <td>0</td>\n",
       "      <td>0</td>\n",
       "      <td>1</td>\n",
       "      <td>0</td>\n",
       "      <td>0</td>\n",
       "      <td>0</td>\n",
       "      <td>0</td>\n",
       "    </tr>\n",
       "    <tr>\n",
       "      <th>64</th>\n",
       "      <td>1</td>\n",
       "      <td>0</td>\n",
       "      <td>0</td>\n",
       "      <td>1</td>\n",
       "      <td>0</td>\n",
       "      <td>0</td>\n",
       "      <td>1</td>\n",
       "      <td>1</td>\n",
       "      <td>1</td>\n",
       "      <td>1</td>\n",
       "      <td>...</td>\n",
       "      <td>0</td>\n",
       "      <td>1</td>\n",
       "      <td>0</td>\n",
       "      <td>1</td>\n",
       "      <td>0</td>\n",
       "      <td>0</td>\n",
       "      <td>1</td>\n",
       "      <td>0</td>\n",
       "      <td>0</td>\n",
       "      <td>0</td>\n",
       "    </tr>\n",
       "    <tr>\n",
       "      <th>90</th>\n",
       "      <td>0</td>\n",
       "      <td>0</td>\n",
       "      <td>1</td>\n",
       "      <td>0</td>\n",
       "      <td>0</td>\n",
       "      <td>0</td>\n",
       "      <td>0</td>\n",
       "      <td>0</td>\n",
       "      <td>1</td>\n",
       "      <td>1</td>\n",
       "      <td>...</td>\n",
       "      <td>0</td>\n",
       "      <td>1</td>\n",
       "      <td>0</td>\n",
       "      <td>1</td>\n",
       "      <td>0</td>\n",
       "      <td>0</td>\n",
       "      <td>1</td>\n",
       "      <td>0</td>\n",
       "      <td>0</td>\n",
       "      <td>0</td>\n",
       "    </tr>\n",
       "    <tr>\n",
       "      <th>59</th>\n",
       "      <td>0</td>\n",
       "      <td>1</td>\n",
       "      <td>1</td>\n",
       "      <td>0</td>\n",
       "      <td>1</td>\n",
       "      <td>0</td>\n",
       "      <td>0</td>\n",
       "      <td>0</td>\n",
       "      <td>1</td>\n",
       "      <td>1</td>\n",
       "      <td>...</td>\n",
       "      <td>0</td>\n",
       "      <td>1</td>\n",
       "      <td>0</td>\n",
       "      <td>0</td>\n",
       "      <td>0</td>\n",
       "      <td>1</td>\n",
       "      <td>0</td>\n",
       "      <td>0</td>\n",
       "      <td>0</td>\n",
       "      <td>0</td>\n",
       "    </tr>\n",
       "    <tr>\n",
       "      <th>30</th>\n",
       "      <td>0</td>\n",
       "      <td>0</td>\n",
       "      <td>1</td>\n",
       "      <td>0</td>\n",
       "      <td>1</td>\n",
       "      <td>0</td>\n",
       "      <td>0</td>\n",
       "      <td>0</td>\n",
       "      <td>0</td>\n",
       "      <td>1</td>\n",
       "      <td>...</td>\n",
       "      <td>0</td>\n",
       "      <td>0</td>\n",
       "      <td>0</td>\n",
       "      <td>0</td>\n",
       "      <td>0</td>\n",
       "      <td>0</td>\n",
       "      <td>0</td>\n",
       "      <td>0</td>\n",
       "      <td>1</td>\n",
       "      <td>0</td>\n",
       "    </tr>\n",
       "  </tbody>\n",
       "</table>\n",
       "<p>5 rows × 21 columns</p>\n",
       "</div>"
      ],
      "text/plain": [
       "    hair  feathers  eggs  milk  airborne  aquatic  predator  toothed  \\\n",
       "20     0         1     1     0         1        0         0        0   \n",
       "64     1         0     0     1         0        0         1        1   \n",
       "90     0         0     1     0         0        0         0        0   \n",
       "59     0         1     1     0         1        0         0        0   \n",
       "30     0         0     1     0         1        0         0        0   \n",
       "\n",
       "    backbone  breathes  ...  fins  tail  domestic  catsize  legs_0  legs_2  \\\n",
       "20         1         1  ...     0     1         1        0       0       1   \n",
       "64         1         1  ...     0     1         0        1       0       0   \n",
       "90         1         1  ...     0     1         0        1       0       0   \n",
       "59         1         1  ...     0     1         0        0       0       1   \n",
       "30         0         1  ...     0     0         0        0       0       0   \n",
       "\n",
       "    legs_4  legs_5  legs_6  legs_8  \n",
       "20       0       0       0       0  \n",
       "64       1       0       0       0  \n",
       "90       1       0       0       0  \n",
       "59       0       0       0       0  \n",
       "30       0       0       1       0  \n",
       "\n",
       "[5 rows x 21 columns]"
      ]
     },
     "execution_count": 17,
     "metadata": {},
     "output_type": "execute_result"
    }
   ],
   "source": [
    "X_train.head()"
   ]
  },
  {
   "cell_type": "code",
   "execution_count": 18,
   "id": "handed-subcommittee",
   "metadata": {
    "ExecuteTime": {
     "end_time": "2021-04-05T07:00:13.167891Z",
     "start_time": "2021-04-05T07:00:13.137267Z"
    },
    "_cell_guid": "982e98a5-e6e8-42a6-b151-63a964b790f1",
    "_uuid": "8deb980b-56d7-4c08-9d42-4aebc640f8d5",
    "collapsed": false,
    "execution": {
     "iopub.execute_input": "2023-12-04T16:39:00.000537Z",
     "iopub.status.busy": "2023-12-04T16:38:59.999765Z",
     "iopub.status.idle": "2023-12-04T16:39:00.004805Z",
     "shell.execute_reply": "2023-12-04T16:39:00.004066Z",
     "shell.execute_reply.started": "2023-12-04T16:32:21.578823Z"
    },
    "jupyter": {
     "outputs_hidden": false
    },
    "papermill": {
     "duration": 0.098179,
     "end_time": "2023-12-04T16:39:00.004968",
     "exception": false,
     "start_time": "2023-12-04T16:38:59.906789",
     "status": "completed"
    },
    "tags": []
   },
   "outputs": [
    {
     "data": {
      "text/html": [
       "<div>\n",
       "<style scoped>\n",
       "    .dataframe tbody tr th:only-of-type {\n",
       "        vertical-align: middle;\n",
       "    }\n",
       "\n",
       "    .dataframe tbody tr th {\n",
       "        vertical-align: top;\n",
       "    }\n",
       "\n",
       "    .dataframe thead th {\n",
       "        text-align: right;\n",
       "    }\n",
       "</style>\n",
       "<table border=\"1\" class=\"dataframe\">\n",
       "  <thead>\n",
       "    <tr style=\"text-align: right;\">\n",
       "      <th></th>\n",
       "      <th>hair</th>\n",
       "      <th>feathers</th>\n",
       "      <th>eggs</th>\n",
       "      <th>milk</th>\n",
       "      <th>airborne</th>\n",
       "      <th>aquatic</th>\n",
       "      <th>predator</th>\n",
       "      <th>toothed</th>\n",
       "      <th>backbone</th>\n",
       "      <th>breathes</th>\n",
       "      <th>...</th>\n",
       "      <th>fins</th>\n",
       "      <th>tail</th>\n",
       "      <th>domestic</th>\n",
       "      <th>catsize</th>\n",
       "      <th>legs_0</th>\n",
       "      <th>legs_2</th>\n",
       "      <th>legs_4</th>\n",
       "      <th>legs_5</th>\n",
       "      <th>legs_6</th>\n",
       "      <th>legs_8</th>\n",
       "    </tr>\n",
       "  </thead>\n",
       "  <tbody>\n",
       "    <tr>\n",
       "      <th>46</th>\n",
       "      <td>0</td>\n",
       "      <td>0</td>\n",
       "      <td>1</td>\n",
       "      <td>0</td>\n",
       "      <td>0</td>\n",
       "      <td>1</td>\n",
       "      <td>1</td>\n",
       "      <td>0</td>\n",
       "      <td>0</td>\n",
       "      <td>0</td>\n",
       "      <td>...</td>\n",
       "      <td>0</td>\n",
       "      <td>0</td>\n",
       "      <td>0</td>\n",
       "      <td>0</td>\n",
       "      <td>0</td>\n",
       "      <td>0</td>\n",
       "      <td>0</td>\n",
       "      <td>0</td>\n",
       "      <td>1</td>\n",
       "      <td>0</td>\n",
       "    </tr>\n",
       "    <tr>\n",
       "      <th>79</th>\n",
       "      <td>0</td>\n",
       "      <td>1</td>\n",
       "      <td>1</td>\n",
       "      <td>0</td>\n",
       "      <td>1</td>\n",
       "      <td>1</td>\n",
       "      <td>1</td>\n",
       "      <td>0</td>\n",
       "      <td>1</td>\n",
       "      <td>1</td>\n",
       "      <td>...</td>\n",
       "      <td>0</td>\n",
       "      <td>1</td>\n",
       "      <td>0</td>\n",
       "      <td>0</td>\n",
       "      <td>0</td>\n",
       "      <td>1</td>\n",
       "      <td>0</td>\n",
       "      <td>0</td>\n",
       "      <td>0</td>\n",
       "      <td>0</td>\n",
       "    </tr>\n",
       "    <tr>\n",
       "      <th>23</th>\n",
       "      <td>0</td>\n",
       "      <td>1</td>\n",
       "      <td>1</td>\n",
       "      <td>0</td>\n",
       "      <td>1</td>\n",
       "      <td>0</td>\n",
       "      <td>0</td>\n",
       "      <td>0</td>\n",
       "      <td>1</td>\n",
       "      <td>1</td>\n",
       "      <td>...</td>\n",
       "      <td>0</td>\n",
       "      <td>1</td>\n",
       "      <td>0</td>\n",
       "      <td>1</td>\n",
       "      <td>0</td>\n",
       "      <td>1</td>\n",
       "      <td>0</td>\n",
       "      <td>0</td>\n",
       "      <td>0</td>\n",
       "      <td>0</td>\n",
       "    </tr>\n",
       "    <tr>\n",
       "      <th>60</th>\n",
       "      <td>0</td>\n",
       "      <td>0</td>\n",
       "      <td>1</td>\n",
       "      <td>0</td>\n",
       "      <td>0</td>\n",
       "      <td>1</td>\n",
       "      <td>1</td>\n",
       "      <td>1</td>\n",
       "      <td>1</td>\n",
       "      <td>0</td>\n",
       "      <td>...</td>\n",
       "      <td>1</td>\n",
       "      <td>1</td>\n",
       "      <td>0</td>\n",
       "      <td>1</td>\n",
       "      <td>1</td>\n",
       "      <td>0</td>\n",
       "      <td>0</td>\n",
       "      <td>0</td>\n",
       "      <td>0</td>\n",
       "      <td>0</td>\n",
       "    </tr>\n",
       "    <tr>\n",
       "      <th>97</th>\n",
       "      <td>1</td>\n",
       "      <td>0</td>\n",
       "      <td>1</td>\n",
       "      <td>0</td>\n",
       "      <td>1</td>\n",
       "      <td>0</td>\n",
       "      <td>0</td>\n",
       "      <td>0</td>\n",
       "      <td>0</td>\n",
       "      <td>1</td>\n",
       "      <td>...</td>\n",
       "      <td>0</td>\n",
       "      <td>0</td>\n",
       "      <td>0</td>\n",
       "      <td>0</td>\n",
       "      <td>0</td>\n",
       "      <td>0</td>\n",
       "      <td>0</td>\n",
       "      <td>0</td>\n",
       "      <td>1</td>\n",
       "      <td>0</td>\n",
       "    </tr>\n",
       "  </tbody>\n",
       "</table>\n",
       "<p>5 rows × 21 columns</p>\n",
       "</div>"
      ],
      "text/plain": [
       "    hair  feathers  eggs  milk  airborne  aquatic  predator  toothed  \\\n",
       "46     0         0     1     0         0        1         1        0   \n",
       "79     0         1     1     0         1        1         1        0   \n",
       "23     0         1     1     0         1        0         0        0   \n",
       "60     0         0     1     0         0        1         1        1   \n",
       "97     1         0     1     0         1        0         0        0   \n",
       "\n",
       "    backbone  breathes  ...  fins  tail  domestic  catsize  legs_0  legs_2  \\\n",
       "46         0         0  ...     0     0         0        0       0       0   \n",
       "79         1         1  ...     0     1         0        0       0       1   \n",
       "23         1         1  ...     0     1         0        1       0       1   \n",
       "60         1         0  ...     1     1         0        1       1       0   \n",
       "97         0         1  ...     0     0         0        0       0       0   \n",
       "\n",
       "    legs_4  legs_5  legs_6  legs_8  \n",
       "46       0       0       1       0  \n",
       "79       0       0       0       0  \n",
       "23       0       0       0       0  \n",
       "60       0       0       0       0  \n",
       "97       0       0       1       0  \n",
       "\n",
       "[5 rows x 21 columns]"
      ]
     },
     "execution_count": 18,
     "metadata": {},
     "output_type": "execute_result"
    }
   ],
   "source": [
    "X_test.head()"
   ]
  },
  {
   "cell_type": "code",
   "execution_count": 19,
   "id": "chronic-carpet",
   "metadata": {
    "ExecuteTime": {
     "end_time": "2021-04-05T07:00:18.773767Z",
     "start_time": "2021-04-05T07:00:18.760559Z"
    },
    "_cell_guid": "4410e13d-ffde-4815-8760-f7d8f65df455",
    "_uuid": "fb78da67-998b-49b3-b821-e6cdf6f12397",
    "collapsed": false,
    "execution": {
     "iopub.execute_input": "2023-12-04T16:39:00.153183Z",
     "iopub.status.busy": "2023-12-04T16:39:00.152438Z",
     "iopub.status.idle": "2023-12-04T16:39:00.158745Z",
     "shell.execute_reply": "2023-12-04T16:39:00.157990Z",
     "shell.execute_reply.started": "2023-12-04T16:32:21.613193Z"
    },
    "jupyter": {
     "outputs_hidden": false
    },
    "papermill": {
     "duration": 0.084278,
     "end_time": "2023-12-04T16:39:00.158912",
     "exception": false,
     "start_time": "2023-12-04T16:39:00.074634",
     "status": "completed"
    },
    "tags": []
   },
   "outputs": [
    {
     "data": {
      "text/plain": [
       "20    2\n",
       "64    1\n",
       "90    3\n",
       "59    2\n",
       "30    6\n",
       "Name: class_type, dtype: int64"
      ]
     },
     "execution_count": 19,
     "metadata": {},
     "output_type": "execute_result"
    }
   ],
   "source": [
    "Y_train.head()"
   ]
  },
  {
   "cell_type": "code",
   "execution_count": 20,
   "id": "twelve-thanksgiving",
   "metadata": {
    "ExecuteTime": {
     "end_time": "2021-04-05T07:00:23.872048Z",
     "start_time": "2021-04-05T07:00:23.855262Z"
    },
    "_cell_guid": "9cf84c3b-f817-4546-88a1-a2a50a70e3f4",
    "_uuid": "eea2e0af-e67f-4927-ac09-dac0ad9d6ad4",
    "collapsed": false,
    "execution": {
     "iopub.execute_input": "2023-12-04T16:39:00.327167Z",
     "iopub.status.busy": "2023-12-04T16:39:00.326291Z",
     "iopub.status.idle": "2023-12-04T16:39:00.330916Z",
     "shell.execute_reply": "2023-12-04T16:39:00.330273Z",
     "shell.execute_reply.started": "2023-12-04T16:32:21.631379Z"
    },
    "jupyter": {
     "outputs_hidden": false
    },
    "papermill": {
     "duration": 0.098767,
     "end_time": "2023-12-04T16:39:00.331076",
     "exception": false,
     "start_time": "2023-12-04T16:39:00.232309",
     "status": "completed"
    },
    "tags": []
   },
   "outputs": [
    {
     "data": {
      "text/plain": [
       "46    7\n",
       "79    2\n",
       "23    2\n",
       "60    4\n",
       "97    6\n",
       "Name: class_type, dtype: int64"
      ]
     },
     "execution_count": 20,
     "metadata": {},
     "output_type": "execute_result"
    }
   ],
   "source": [
    "Y_test.head()"
   ]
  },
  {
   "cell_type": "markdown",
   "id": "broken-fusion",
   "metadata": {
    "_cell_guid": "f50b8a13-6950-4ae3-bcaa-d54ff4a1ec63",
    "_uuid": "00bb12b3-8fe9-4ca3-a172-1f72703c7a74",
    "papermill": {
     "duration": 0.071393,
     "end_time": "2023-12-04T16:39:00.475411",
     "exception": false,
     "start_time": "2023-12-04T16:39:00.404018",
     "status": "completed"
    },
    "tags": []
   },
   "source": [
    "# Grid search for Algorithm Tuning"
   ]
  },
  {
   "cell_type": "code",
   "execution_count": 21,
   "id": "saved-falls",
   "metadata": {
    "ExecuteTime": {
     "end_time": "2021-04-05T07:01:40.465122Z",
     "start_time": "2021-04-05T07:01:40.455778Z"
    },
    "_cell_guid": "03df1419-a2c1-4093-afe3-bc66f71c54b2",
    "_uuid": "e1fd582b-2abb-4375-802c-4910a1fc3b0d",
    "collapsed": false,
    "execution": {
     "iopub.execute_input": "2023-12-04T16:39:00.625394Z",
     "iopub.status.busy": "2023-12-04T16:39:00.624339Z",
     "iopub.status.idle": "2023-12-04T16:39:00.629184Z",
     "shell.execute_reply": "2023-12-04T16:39:00.628428Z",
     "shell.execute_reply.started": "2023-12-04T16:32:21.650835Z"
    },
    "jupyter": {
     "outputs_hidden": false
    },
    "papermill": {
     "duration": 0.082801,
     "end_time": "2023-12-04T16:39:00.629352",
     "exception": false,
     "start_time": "2023-12-04T16:39:00.546551",
     "status": "completed"
    },
    "tags": []
   },
   "outputs": [
    {
     "data": {
      "text/plain": [
       "{'n_neighbors': array([ 1,  2,  3,  4,  5,  6,  7,  8,  9, 10, 11, 12, 13, 14, 15, 16, 17,\n",
       "        18, 19, 20, 21, 22, 23, 24, 25, 26, 27, 28, 29, 30, 31, 32, 33, 34,\n",
       "        35, 36, 37, 38, 39])}"
      ]
     },
     "execution_count": 21,
     "metadata": {},
     "output_type": "execute_result"
    }
   ],
   "source": [
    "n_neighbors = np.array(range(1,40))\n",
    "param_grid = dict(n_neighbors=n_neighbors)\n",
    "param_grid"
   ]
  },
  {
   "cell_type": "code",
   "execution_count": 22,
   "id": "mature-mileage",
   "metadata": {
    "ExecuteTime": {
     "end_time": "2021-04-05T07:01:58.424691Z",
     "start_time": "2021-04-05T07:01:55.107681Z"
    },
    "_cell_guid": "88f39e65-d204-46ec-a481-2df4ad5b45be",
    "_uuid": "20494c6c-be6f-4a9e-82ea-bce640f6653f",
    "collapsed": false,
    "execution": {
     "iopub.execute_input": "2023-12-04T16:39:00.779891Z",
     "iopub.status.busy": "2023-12-04T16:39:00.779139Z",
     "iopub.status.idle": "2023-12-04T16:39:03.719414Z",
     "shell.execute_reply": "2023-12-04T16:39:03.718588Z",
     "shell.execute_reply.started": "2023-12-04T16:32:21.669220Z"
    },
    "jupyter": {
     "outputs_hidden": false
    },
    "papermill": {
     "duration": 3.018756,
     "end_time": "2023-12-04T16:39:03.719586",
     "exception": false,
     "start_time": "2023-12-04T16:39:00.700830",
     "status": "completed"
    },
    "tags": []
   },
   "outputs": [
    {
     "name": "stderr",
     "output_type": "stream",
     "text": [
      "/opt/conda/lib/python3.7/site-packages/sklearn/model_selection/_split.py:668: UserWarning: The least populated class in y has only 3 members, which is less than n_splits=10.\n",
      "  % (min_groups, self.n_splits)), UserWarning)\n"
     ]
    },
    {
     "name": "stdout",
     "output_type": "stream",
     "text": [
      "{'n_neighbors': 1}\n"
     ]
    }
   ],
   "source": [
    "model = KNeighborsClassifier()\n",
    "grid = GridSearchCV(estimator=model, param_grid=param_grid,cv=10)\n",
    "grid.fit(X_train, Y_train)\n",
    "print(grid.best_params_)"
   ]
  },
  {
   "cell_type": "markdown",
   "id": "sensitive-cruise",
   "metadata": {
    "_cell_guid": "571ca147-39c6-4e56-bf1a-9e00a801cdb4",
    "_uuid": "05af538e-13a9-4565-b03b-8f0380b53368",
    "papermill": {
     "duration": 0.07257,
     "end_time": "2023-12-04T16:39:03.866251",
     "exception": false,
     "start_time": "2023-12-04T16:39:03.793681",
     "status": "completed"
    },
    "tags": []
   },
   "source": [
    "##### After applying GridSearch, we got the best K (n_neighbors) value as 1, so we will be using the k= 1 for KNN Classifier algorithm"
   ]
  },
  {
   "cell_type": "markdown",
   "id": "latter-deviation",
   "metadata": {
    "_cell_guid": "0ad5dede-9639-4b37-ac12-533f9eef690e",
    "_uuid": "e860fdc3-6ca1-48cf-a8cf-0b1aeecfd872",
    "papermill": {
     "duration": 0.072921,
     "end_time": "2023-12-04T16:39:04.012365",
     "exception": false,
     "start_time": "2023-12-04T16:39:03.939444",
     "status": "completed"
    },
    "tags": []
   },
   "source": [
    "### Visualizing CV results"
   ]
  },
  {
   "cell_type": "code",
   "execution_count": 23,
   "id": "hazardous-disabled",
   "metadata": {
    "ExecuteTime": {
     "end_time": "2021-04-05T07:03:03.24088Z",
     "start_time": "2021-04-05T07:02:59.544774Z"
    },
    "_cell_guid": "167886f1-ecfe-4cba-ae1c-7a865242d7f1",
    "_uuid": "3a40dc95-f847-4d92-88a4-5615d689a582",
    "collapsed": false,
    "execution": {
     "iopub.execute_input": "2023-12-04T16:39:04.172360Z",
     "iopub.status.busy": "2023-12-04T16:39:04.167913Z",
     "iopub.status.idle": "2023-12-04T16:39:07.322015Z",
     "shell.execute_reply": "2023-12-04T16:39:07.321228Z"
    },
    "jupyter": {
     "outputs_hidden": false
    },
    "papermill": {
     "duration": 3.238628,
     "end_time": "2023-12-04T16:39:07.322185",
     "exception": false,
     "start_time": "2023-12-04T16:39:04.083557",
     "status": "completed"
    },
    "tags": []
   },
   "outputs": [
    {
     "name": "stderr",
     "output_type": "stream",
     "text": [
      "/opt/conda/lib/python3.7/site-packages/sklearn/model_selection/_split.py:668: UserWarning: The least populated class in y has only 3 members, which is less than n_splits=10.\n",
      "  % (min_groups, self.n_splits)), UserWarning)\n",
      "/opt/conda/lib/python3.7/site-packages/sklearn/model_selection/_split.py:668: UserWarning: The least populated class in y has only 3 members, which is less than n_splits=10.\n",
      "  % (min_groups, self.n_splits)), UserWarning)\n",
      "/opt/conda/lib/python3.7/site-packages/sklearn/model_selection/_split.py:668: UserWarning: The least populated class in y has only 3 members, which is less than n_splits=10.\n",
      "  % (min_groups, self.n_splits)), UserWarning)\n",
      "/opt/conda/lib/python3.7/site-packages/sklearn/model_selection/_split.py:668: UserWarning: The least populated class in y has only 3 members, which is less than n_splits=10.\n",
      "  % (min_groups, self.n_splits)), UserWarning)\n",
      "/opt/conda/lib/python3.7/site-packages/sklearn/model_selection/_split.py:668: UserWarning: The least populated class in y has only 3 members, which is less than n_splits=10.\n",
      "  % (min_groups, self.n_splits)), UserWarning)\n",
      "/opt/conda/lib/python3.7/site-packages/sklearn/model_selection/_split.py:668: UserWarning: The least populated class in y has only 3 members, which is less than n_splits=10.\n",
      "  % (min_groups, self.n_splits)), UserWarning)\n",
      "/opt/conda/lib/python3.7/site-packages/sklearn/model_selection/_split.py:668: UserWarning: The least populated class in y has only 3 members, which is less than n_splits=10.\n",
      "  % (min_groups, self.n_splits)), UserWarning)\n",
      "/opt/conda/lib/python3.7/site-packages/sklearn/model_selection/_split.py:668: UserWarning: The least populated class in y has only 3 members, which is less than n_splits=10.\n",
      "  % (min_groups, self.n_splits)), UserWarning)\n",
      "/opt/conda/lib/python3.7/site-packages/sklearn/model_selection/_split.py:668: UserWarning: The least populated class in y has only 3 members, which is less than n_splits=10.\n",
      "  % (min_groups, self.n_splits)), UserWarning)\n",
      "/opt/conda/lib/python3.7/site-packages/sklearn/model_selection/_split.py:668: UserWarning: The least populated class in y has only 3 members, which is less than n_splits=10.\n",
      "  % (min_groups, self.n_splits)), UserWarning)\n",
      "/opt/conda/lib/python3.7/site-packages/sklearn/model_selection/_split.py:668: UserWarning: The least populated class in y has only 3 members, which is less than n_splits=10.\n",
      "  % (min_groups, self.n_splits)), UserWarning)\n",
      "/opt/conda/lib/python3.7/site-packages/sklearn/model_selection/_split.py:668: UserWarning: The least populated class in y has only 3 members, which is less than n_splits=10.\n",
      "  % (min_groups, self.n_splits)), UserWarning)\n",
      "/opt/conda/lib/python3.7/site-packages/sklearn/model_selection/_split.py:668: UserWarning: The least populated class in y has only 3 members, which is less than n_splits=10.\n",
      "  % (min_groups, self.n_splits)), UserWarning)\n",
      "/opt/conda/lib/python3.7/site-packages/sklearn/model_selection/_split.py:668: UserWarning: The least populated class in y has only 3 members, which is less than n_splits=10.\n",
      "  % (min_groups, self.n_splits)), UserWarning)\n",
      "/opt/conda/lib/python3.7/site-packages/sklearn/model_selection/_split.py:668: UserWarning: The least populated class in y has only 3 members, which is less than n_splits=10.\n",
      "  % (min_groups, self.n_splits)), UserWarning)\n",
      "/opt/conda/lib/python3.7/site-packages/sklearn/model_selection/_split.py:668: UserWarning: The least populated class in y has only 3 members, which is less than n_splits=10.\n",
      "  % (min_groups, self.n_splits)), UserWarning)\n",
      "/opt/conda/lib/python3.7/site-packages/sklearn/model_selection/_split.py:668: UserWarning: The least populated class in y has only 3 members, which is less than n_splits=10.\n",
      "  % (min_groups, self.n_splits)), UserWarning)\n",
      "/opt/conda/lib/python3.7/site-packages/sklearn/model_selection/_split.py:668: UserWarning: The least populated class in y has only 3 members, which is less than n_splits=10.\n",
      "  % (min_groups, self.n_splits)), UserWarning)\n",
      "/opt/conda/lib/python3.7/site-packages/sklearn/model_selection/_split.py:668: UserWarning: The least populated class in y has only 3 members, which is less than n_splits=10.\n",
      "  % (min_groups, self.n_splits)), UserWarning)\n",
      "/opt/conda/lib/python3.7/site-packages/sklearn/model_selection/_split.py:668: UserWarning: The least populated class in y has only 3 members, which is less than n_splits=10.\n",
      "  % (min_groups, self.n_splits)), UserWarning)\n",
      "/opt/conda/lib/python3.7/site-packages/sklearn/model_selection/_split.py:668: UserWarning: The least populated class in y has only 3 members, which is less than n_splits=10.\n",
      "  % (min_groups, self.n_splits)), UserWarning)\n",
      "/opt/conda/lib/python3.7/site-packages/sklearn/model_selection/_split.py:668: UserWarning: The least populated class in y has only 3 members, which is less than n_splits=10.\n",
      "  % (min_groups, self.n_splits)), UserWarning)\n",
      "/opt/conda/lib/python3.7/site-packages/sklearn/model_selection/_split.py:668: UserWarning: The least populated class in y has only 3 members, which is less than n_splits=10.\n",
      "  % (min_groups, self.n_splits)), UserWarning)\n",
      "/opt/conda/lib/python3.7/site-packages/sklearn/model_selection/_split.py:668: UserWarning: The least populated class in y has only 3 members, which is less than n_splits=10.\n",
      "  % (min_groups, self.n_splits)), UserWarning)\n",
      "/opt/conda/lib/python3.7/site-packages/sklearn/model_selection/_split.py:668: UserWarning: The least populated class in y has only 3 members, which is less than n_splits=10.\n",
      "  % (min_groups, self.n_splits)), UserWarning)\n",
      "/opt/conda/lib/python3.7/site-packages/sklearn/model_selection/_split.py:668: UserWarning: The least populated class in y has only 3 members, which is less than n_splits=10.\n",
      "  % (min_groups, self.n_splits)), UserWarning)\n",
      "/opt/conda/lib/python3.7/site-packages/sklearn/model_selection/_split.py:668: UserWarning: The least populated class in y has only 3 members, which is less than n_splits=10.\n",
      "  % (min_groups, self.n_splits)), UserWarning)\n",
      "/opt/conda/lib/python3.7/site-packages/sklearn/model_selection/_split.py:668: UserWarning: The least populated class in y has only 3 members, which is less than n_splits=10.\n",
      "  % (min_groups, self.n_splits)), UserWarning)\n",
      "/opt/conda/lib/python3.7/site-packages/sklearn/model_selection/_split.py:668: UserWarning: The least populated class in y has only 3 members, which is less than n_splits=10.\n",
      "  % (min_groups, self.n_splits)), UserWarning)\n",
      "/opt/conda/lib/python3.7/site-packages/sklearn/model_selection/_split.py:668: UserWarning: The least populated class in y has only 3 members, which is less than n_splits=10.\n",
      "  % (min_groups, self.n_splits)), UserWarning)\n",
      "/opt/conda/lib/python3.7/site-packages/sklearn/model_selection/_split.py:668: UserWarning: The least populated class in y has only 3 members, which is less than n_splits=10.\n",
      "  % (min_groups, self.n_splits)), UserWarning)\n",
      "/opt/conda/lib/python3.7/site-packages/sklearn/model_selection/_split.py:668: UserWarning: The least populated class in y has only 3 members, which is less than n_splits=10.\n",
      "  % (min_groups, self.n_splits)), UserWarning)\n",
      "/opt/conda/lib/python3.7/site-packages/sklearn/model_selection/_split.py:668: UserWarning: The least populated class in y has only 3 members, which is less than n_splits=10.\n",
      "  % (min_groups, self.n_splits)), UserWarning)\n",
      "/opt/conda/lib/python3.7/site-packages/sklearn/model_selection/_split.py:668: UserWarning: The least populated class in y has only 3 members, which is less than n_splits=10.\n",
      "  % (min_groups, self.n_splits)), UserWarning)\n",
      "/opt/conda/lib/python3.7/site-packages/sklearn/model_selection/_split.py:668: UserWarning: The least populated class in y has only 3 members, which is less than n_splits=10.\n",
      "  % (min_groups, self.n_splits)), UserWarning)\n",
      "/opt/conda/lib/python3.7/site-packages/sklearn/model_selection/_split.py:668: UserWarning: The least populated class in y has only 3 members, which is less than n_splits=10.\n",
      "  % (min_groups, self.n_splits)), UserWarning)\n",
      "/opt/conda/lib/python3.7/site-packages/sklearn/model_selection/_split.py:668: UserWarning: The least populated class in y has only 3 members, which is less than n_splits=10.\n",
      "  % (min_groups, self.n_splits)), UserWarning)\n",
      "/opt/conda/lib/python3.7/site-packages/sklearn/model_selection/_split.py:668: UserWarning: The least populated class in y has only 3 members, which is less than n_splits=10.\n",
      "  % (min_groups, self.n_splits)), UserWarning)\n",
      "/opt/conda/lib/python3.7/site-packages/sklearn/model_selection/_split.py:668: UserWarning: The least populated class in y has only 3 members, which is less than n_splits=10.\n",
      "  % (min_groups, self.n_splits)), UserWarning)\n",
      "/opt/conda/lib/python3.7/site-packages/sklearn/model_selection/_split.py:668: UserWarning: The least populated class in y has only 3 members, which is less than n_splits=10.\n",
      "  % (min_groups, self.n_splits)), UserWarning)\n"
     ]
    },
    {
     "data": {
      "image/png": "[encoded data removed]",
      "text/plain": [
       "<Figure size 432x288 with 1 Axes>"
      ]
     },
     "metadata": {
      "needs_background": "light"
     },
     "output_type": "display_data"
    }
   ],
   "source": [
    "import matplotlib.pyplot as plt \n",
    "%matplotlib inline\n",
    "# choose k between 1 to 41\n",
    "k_range = range(1, 41)\n",
    "k_scores = []\n",
    "# use iteration to caclulator different k in models, then return the average accuracy based on the cross validation\n",
    "for k in k_range:\n",
    "    knn = KNeighborsClassifier(n_neighbors=k)\n",
    "    scores = cross_val_score(knn, X_train, Y_train, cv=10)\n",
    "    k_scores.append(scores.mean())\n",
    "# plot to see clearly\n",
    "plt.plot(k_range, k_scores)\n",
    "plt.xlabel('Value of K for KNN')\n",
    "plt.ylabel('Cross-Validated Accuracy')\n",
    "plt.show()"
   ]
  },
  {
   "cell_type": "markdown",
   "id": "posted-douglas",
   "metadata": {
    "_cell_guid": "996d1241-82ed-490a-ae00-1fab9d8acf87",
    "_uuid": "68b57888-3adc-42a2-8aaf-7802b237574d",
    "papermill": {
     "duration": 0.078915,
     "end_time": "2023-12-04T16:39:07.482507",
     "exception": false,
     "start_time": "2023-12-04T16:39:07.403592",
     "status": "completed"
    },
    "tags": []
   },
   "source": [
    "##### We could see that the model accuracy is very good for k values smaller than 5 and as the value increases the accuracy goes on decreasing"
   ]
  },
  {
   "cell_type": "markdown",
   "id": "interested-humanitarian",
   "metadata": {
    "_cell_guid": "158324fd-7722-47a3-88a8-f77e515f48b7",
    "_uuid": "66eec3d8-d520-45bc-80ae-b101e53ac552",
    "papermill": {
     "duration": 0.080912,
     "end_time": "2023-12-04T16:39:07.643066",
     "exception": false,
     "start_time": "2023-12-04T16:39:07.562154",
     "status": "completed"
    },
    "tags": []
   },
   "source": [
    "# Using KNN Classifier for prediction"
   ]
  },
  {
   "cell_type": "code",
   "execution_count": 24,
   "id": "cooked-victoria",
   "metadata": {
    "ExecuteTime": {
     "end_time": "2021-04-05T07:06:50.809963Z",
     "start_time": "2021-04-05T07:06:50.791862Z"
    },
    "_cell_guid": "4ef0fd89-fddc-411a-b9c4-938124b0d0c2",
    "_uuid": "a70caec2-c3a3-4d4c-b9a7-596aa477ad8d",
    "collapsed": false,
    "execution": {
     "iopub.execute_input": "2023-12-04T16:39:07.815231Z",
     "iopub.status.busy": "2023-12-04T16:39:07.814195Z",
     "iopub.status.idle": "2023-12-04T16:39:07.821966Z",
     "shell.execute_reply": "2023-12-04T16:39:07.822574Z"
    },
    "jupyter": {
     "outputs_hidden": false
    },
    "papermill": {
     "duration": 0.100614,
     "end_time": "2023-12-04T16:39:07.822787",
     "exception": false,
     "start_time": "2023-12-04T16:39:07.722173",
     "status": "completed"
    },
    "tags": []
   },
   "outputs": [
    {
     "name": "stdout",
     "output_type": "stream",
     "text": [
      "0.9523809523809523\n"
     ]
    }
   ],
   "source": [
    "model = KNeighborsClassifier(n_neighbors =1).fit(X_train,Y_train)\n",
    "y_pred = model.predict(X_test)\n",
    "accuracy = accuracy_score(Y_test,y_pred)\n",
    "print(accuracy)"
   ]
  },
  {
   "cell_type": "markdown",
   "id": "interim-tracy",
   "metadata": {
    "_cell_guid": "535ecf60-be41-4c81-81bf-a66ca4cab428",
    "_uuid": "a050e169-28ac-451c-8370-71b144c13236",
    "papermill": {
     "duration": 0.078246,
     "end_time": "2023-12-04T16:39:07.979782",
     "exception": false,
     "start_time": "2023-12-04T16:39:07.901536",
     "status": "completed"
    },
    "tags": []
   },
   "source": [
    "##### We can see that the accuracy score which we have got for our model is 0.76 which is 76%. It is decent accuracy score. But the accuracy score can be misleading for imbalanced data. So we will use confusion matrix and classification report metrics further"
   ]
  },
  {
   "cell_type": "code",
   "execution_count": 25,
   "id": "immediate-current",
   "metadata": {
    "ExecuteTime": {
     "end_time": "2021-04-05T07:07:37.477243Z",
     "start_time": "2021-04-05T07:07:37.44338Z"
    },
    "_cell_guid": "10029974-cbf5-4d31-a24e-e55d0242d222",
    "_uuid": "7c199bf1-54b8-483e-9c31-fc4c8a0cbaa0",
    "collapsed": false,
    "execution": {
     "iopub.execute_input": "2023-12-04T16:39:08.144052Z",
     "iopub.status.busy": "2023-12-04T16:39:08.143281Z",
     "iopub.status.idle": "2023-12-04T16:39:08.147171Z",
     "shell.execute_reply": "2023-12-04T16:39:08.146483Z"
    },
    "jupyter": {
     "outputs_hidden": false
    },
    "papermill": {
     "duration": 0.088833,
     "end_time": "2023-12-04T16:39:08.147333",
     "exception": false,
     "start_time": "2023-12-04T16:39:08.058500",
     "status": "completed"
    },
    "tags": []
   },
   "outputs": [
    {
     "name": "stdout",
     "output_type": "stream",
     "text": [
      "[[8 0 0 0 0 0 0]\n",
      " [0 4 0 0 0 0 0]\n",
      " [0 0 0 0 1 0 0]\n",
      " [0 0 0 3 0 0 0]\n",
      " [0 0 0 0 1 0 0]\n",
      " [0 0 0 0 0 2 0]\n",
      " [0 0 0 0 0 0 2]]\n"
     ]
    }
   ],
   "source": [
    "confusion_matrix = confusion_matrix(Y_test,y_pred)\n",
    "print (confusion_matrix)"
   ]
  },
  {
   "cell_type": "code",
   "execution_count": 26,
   "id": "rising-midnight",
   "metadata": {
    "ExecuteTime": {
     "end_time": "2021-04-05T07:07:47.792296Z",
     "start_time": "2021-04-05T07:07:47.774259Z"
    },
    "_cell_guid": "7bf5c5b5-35b8-4b2f-b87b-6030e3e1b958",
    "_uuid": "296b27f3-5da6-45ff-8d0f-12728a89059f",
    "collapsed": false,
    "execution": {
     "iopub.execute_input": "2023-12-04T16:39:08.319298Z",
     "iopub.status.busy": "2023-12-04T16:39:08.318500Z",
     "iopub.status.idle": "2023-12-04T16:39:08.332977Z",
     "shell.execute_reply": "2023-12-04T16:39:08.332328Z"
    },
    "jupyter": {
     "outputs_hidden": false
    },
    "papermill": {
     "duration": 0.101947,
     "end_time": "2023-12-04T16:39:08.333145",
     "exception": false,
     "start_time": "2023-12-04T16:39:08.231198",
     "status": "completed"
    },
    "tags": []
   },
   "outputs": [
    {
     "name": "stdout",
     "output_type": "stream",
     "text": [
      "              precision    recall  f1-score   support\n",
      "\n",
      "           1       1.00      1.00      1.00         8\n",
      "           2       1.00      1.00      1.00         4\n",
      "           3       0.00      0.00      0.00         1\n",
      "           4       1.00      1.00      1.00         3\n",
      "           5       0.50      1.00      0.67         1\n",
      "           6       1.00      1.00      1.00         2\n",
      "           7       1.00      1.00      1.00         2\n",
      "\n",
      "    accuracy                           0.95        21\n",
      "   macro avg       0.79      0.86      0.81        21\n",
      "weighted avg       0.93      0.95      0.94        21\n",
      "\n"
     ]
    },
    {
     "name": "stderr",
     "output_type": "stream",
     "text": [
      "/opt/conda/lib/python3.7/site-packages/sklearn/metrics/_classification.py:1245: UndefinedMetricWarning: Precision and F-score are ill-defined and being set to 0.0 in labels with no predicted samples. Use `zero_division` parameter to control this behavior.\n",
      "  _warn_prf(average, modifier, msg_start, len(result))\n",
      "/opt/conda/lib/python3.7/site-packages/sklearn/metrics/_classification.py:1245: UndefinedMetricWarning: Precision and F-score are ill-defined and being set to 0.0 in labels with no predicted samples. Use `zero_division` parameter to control this behavior.\n",
      "  _warn_prf(average, modifier, msg_start, len(result))\n",
      "/opt/conda/lib/python3.7/site-packages/sklearn/metrics/_classification.py:1245: UndefinedMetricWarning: Precision and F-score are ill-defined and being set to 0.0 in labels with no predicted samples. Use `zero_division` parameter to control this behavior.\n",
      "  _warn_prf(average, modifier, msg_start, len(result))\n"
     ]
    }
   ],
   "source": [
    "print(classification_report(Y_test,y_pred))"
   ]
  },
  {
   "cell_type": "markdown",
   "id": "prepared-style",
   "metadata": {
    "_cell_guid": "55e628c9-5853-420d-86a4-b0e3062f14b4",
    "_uuid": "b080077e-b850-4a73-b739-d5fc3c0ac817",
    "papermill": {
     "duration": 0.081384,
     "end_time": "2023-12-04T16:39:08.498609",
     "exception": false,
     "start_time": "2023-12-04T16:39:08.417225",
     "status": "completed"
    },
    "tags": []
   },
   "source": [
    "##### The precison and f1 score for type 5 is  low. Since the data is imbalanced, we can see the precision values are affected. We will use oversamping technique as the data is very less and undersampling will cause data loss"
   ]
  },
  {
   "cell_type": "markdown",
   "id": "assumed-chemistry",
   "metadata": {
    "_cell_guid": "ad6933fa-aae9-4737-bbcf-e464fb1b7d40",
    "_uuid": "96f56676-572f-42ee-b0d1-6aa02ad89de8",
    "papermill": {
     "duration": 0.080901,
     "end_time": "2023-12-04T16:39:08.661123",
     "exception": false,
     "start_time": "2023-12-04T16:39:08.580222",
     "status": "completed"
    },
    "tags": []
   },
   "source": [
    "# Using Over Sampling for balancing the data"
   ]
  },
  {
   "cell_type": "markdown",
   "id": "integral-inquiry",
   "metadata": {
    "_cell_guid": "f5128895-4e24-468e-ad45-7dc0761ec8bf",
    "_uuid": "d8d04ed4-baa0-4261-9aea-9f472b20cd5d",
    "papermill": {
     "duration": 0.084664,
     "end_time": "2023-12-04T16:39:08.826261",
     "exception": false,
     "start_time": "2023-12-04T16:39:08.741597",
     "status": "completed"
    },
    "tags": []
   },
   "source": [
    "##### We will use RandomOverSampler (ROS) for sampling the the data to balance our data"
   ]
  },
  {
   "cell_type": "code",
   "execution_count": 27,
   "id": "necessary-politics",
   "metadata": {
    "ExecuteTime": {
     "end_time": "2021-04-05T08:08:15.745446Z",
     "start_time": "2021-04-05T08:08:15.736469Z"
    },
    "_cell_guid": "2934aa92-bbf1-4c38-96b7-5c1cb9f7fe08",
    "_uuid": "c7d9eb2e-2710-4936-90ab-b24c9d7317fc",
    "collapsed": false,
    "execution": {
     "iopub.execute_input": "2023-12-04T16:39:08.994072Z",
     "iopub.status.busy": "2023-12-04T16:39:08.993285Z",
     "iopub.status.idle": "2023-12-04T16:39:08.996341Z",
     "shell.execute_reply": "2023-12-04T16:39:08.995744Z"
    },
    "jupyter": {
     "outputs_hidden": false
    },
    "papermill": {
     "duration": 0.088215,
     "end_time": "2023-12-04T16:39:08.996495",
     "exception": false,
     "start_time": "2023-12-04T16:39:08.908280",
     "status": "completed"
    },
    "tags": []
   },
   "outputs": [],
   "source": [
    "ros = RandomOverSampler(random_state = 30)"
   ]
  },
  {
   "cell_type": "markdown",
   "id": "entertaining-fifty",
   "metadata": {
    "_cell_guid": "b07a5ebf-6750-4f80-bd53-1f224d297d41",
    "_uuid": "f210f46d-67e1-44c2-81d2-1d6b948e82f6",
    "papermill": {
     "duration": 0.08028,
     "end_time": "2023-12-04T16:39:09.158805",
     "exception": false,
     "start_time": "2023-12-04T16:39:09.078525",
     "status": "completed"
    },
    "tags": []
   },
   "source": [
    "##### Fitting the data using ROS"
   ]
  },
  {
   "cell_type": "code",
   "execution_count": 28,
   "id": "possible-learning",
   "metadata": {
    "ExecuteTime": {
     "end_time": "2021-04-05T07:58:46.147312Z",
     "start_time": "2021-04-05T07:58:46.095917Z"
    },
    "_cell_guid": "ae236c33-02d0-453d-a577-081d70092eec",
    "_uuid": "6ea3fe3a-4374-497e-80d7-8e139800d555",
    "collapsed": false,
    "execution": {
     "iopub.execute_input": "2023-12-04T16:39:09.334051Z",
     "iopub.status.busy": "2023-12-04T16:39:09.333121Z",
     "iopub.status.idle": "2023-12-04T16:39:09.345521Z",
     "shell.execute_reply": "2023-12-04T16:39:09.344866Z"
    },
    "jupyter": {
     "outputs_hidden": false
    },
    "papermill": {
     "duration": 0.104033,
     "end_time": "2023-12-04T16:39:09.345714",
     "exception": false,
     "start_time": "2023-12-04T16:39:09.241681",
     "status": "completed"
    },
    "tags": []
   },
   "outputs": [],
   "source": [
    "x_resample, y_resample = ros.fit_resample(X, Y)\n",
    "y_df = pd.DataFrame(y_resample)"
   ]
  },
  {
   "cell_type": "code",
   "execution_count": 29,
   "id": "detected-victory",
   "metadata": {
    "ExecuteTime": {
     "end_time": "2021-04-05T07:59:20.706126Z",
     "start_time": "2021-04-05T07:59:20.689803Z"
    },
    "_cell_guid": "ff248195-1aa8-499d-9121-caf51022284e",
    "_uuid": "c70523ff-e449-4eea-bf50-48025196a487",
    "collapsed": false,
    "execution": {
     "iopub.execute_input": "2023-12-04T16:39:09.519000Z",
     "iopub.status.busy": "2023-12-04T16:39:09.518208Z",
     "iopub.status.idle": "2023-12-04T16:39:09.524512Z",
     "shell.execute_reply": "2023-12-04T16:39:09.523739Z"
    },
    "jupyter": {
     "outputs_hidden": false
    },
    "papermill": {
     "duration": 0.094507,
     "end_time": "2023-12-04T16:39:09.524676",
     "exception": false,
     "start_time": "2023-12-04T16:39:09.430169",
     "status": "completed"
    },
    "tags": []
   },
   "outputs": [
    {
     "data": {
      "text/plain": [
       "class_type\n",
       "1             41\n",
       "2             41\n",
       "3             41\n",
       "4             41\n",
       "5             41\n",
       "6             41\n",
       "7             41\n",
       "dtype: int64"
      ]
     },
     "execution_count": 29,
     "metadata": {},
     "output_type": "execute_result"
    }
   ],
   "source": [
    "y_df.value_counts()"
   ]
  },
  {
   "cell_type": "markdown",
   "id": "natural-justice",
   "metadata": {
    "_cell_guid": "7db85679-b2d2-473e-9811-4a4bd692cca3",
    "_uuid": "9a7264ee-6a72-4652-afbd-378b4d9ea832",
    "papermill": {
     "duration": 0.081783,
     "end_time": "2023-12-04T16:39:09.689965",
     "exception": false,
     "start_time": "2023-12-04T16:39:09.608182",
     "status": "completed"
    },
    "tags": []
   },
   "source": [
    "##### We could see the data is resampled now and all the type values are 41 now. Previously only type 1 was 41. We will split the resampled data into training and test data and build a KNN model"
   ]
  },
  {
   "cell_type": "code",
   "execution_count": 30,
   "id": "failing-community",
   "metadata": {
    "ExecuteTime": {
     "end_time": "2021-04-05T08:00:00.459969Z",
     "start_time": "2021-04-05T08:00:00.448854Z"
    },
    "_cell_guid": "7413c193-b716-4a6f-9949-960c92955b2c",
    "_uuid": "4f1a96e8-23ca-456d-9423-13ed993b471d",
    "collapsed": false,
    "execution": {
     "iopub.execute_input": "2023-12-04T16:39:09.857758Z",
     "iopub.status.busy": "2023-12-04T16:39:09.857014Z",
     "iopub.status.idle": "2023-12-04T16:39:09.864829Z",
     "shell.execute_reply": "2023-12-04T16:39:09.865493Z"
    },
    "jupyter": {
     "outputs_hidden": false
    },
    "papermill": {
     "duration": 0.094386,
     "end_time": "2023-12-04T16:39:09.865701",
     "exception": false,
     "start_time": "2023-12-04T16:39:09.771315",
     "status": "completed"
    },
    "tags": []
   },
   "outputs": [],
   "source": [
    "X_train, X_test, Y_train, Y_test = train_test_split(x_resample, y_resample, test_size = .2, random_state = 30, stratify = y_resample)"
   ]
  },
  {
   "cell_type": "markdown",
   "id": "magnetic-section",
   "metadata": {
    "_cell_guid": "9c953ce6-2bf2-46f4-bdd7-564fc1e35278",
    "_uuid": "6e4f72ed-f011-4f48-ad63-63d27eded108",
    "papermill": {
     "duration": 0.082331,
     "end_time": "2023-12-04T16:39:10.030830",
     "exception": false,
     "start_time": "2023-12-04T16:39:09.948499",
     "status": "completed"
    },
    "tags": []
   },
   "source": [
    "# Using GridSearch for Algorithm Tuning after resampling"
   ]
  },
  {
   "cell_type": "code",
   "execution_count": 31,
   "id": "adverse-water",
   "metadata": {
    "ExecuteTime": {
     "end_time": "2021-04-05T08:00:19.801464Z",
     "start_time": "2021-04-05T08:00:17.07548Z"
    },
    "_cell_guid": "ba604712-128e-4f8f-a46d-56ab37ad93a8",
    "_uuid": "d54547df-41d2-4da2-b507-977756155c8b",
    "collapsed": false,
    "execution": {
     "iopub.execute_input": "2023-12-04T16:39:10.199013Z",
     "iopub.status.busy": "2023-12-04T16:39:10.198145Z",
     "iopub.status.idle": "2023-12-04T16:39:13.453713Z",
     "shell.execute_reply": "2023-12-04T16:39:13.452913Z"
    },
    "jupyter": {
     "outputs_hidden": false
    },
    "papermill": {
     "duration": 3.340559,
     "end_time": "2023-12-04T16:39:13.453882",
     "exception": false,
     "start_time": "2023-12-04T16:39:10.113323",
     "status": "completed"
    },
    "tags": []
   },
   "outputs": [
    {
     "name": "stdout",
     "output_type": "stream",
     "text": [
      "{'n_neighbors': 1}\n"
     ]
    }
   ],
   "source": [
    "n_neighbors = np.array(range(1,40))\n",
    "param_grid = dict(n_neighbors=n_neighbors)\n",
    "\n",
    "model = KNeighborsClassifier()\n",
    "grid = GridSearchCV(estimator=model, param_grid=param_grid,cv=10)\n",
    "grid.fit(X_train, Y_train)\n",
    "print(grid.best_params_)"
   ]
  },
  {
   "cell_type": "markdown",
   "id": "published-excellence",
   "metadata": {
    "_cell_guid": "7a4b52bd-bb51-443d-926c-678da0e0e052",
    "_uuid": "2b68b206-59d5-424e-8716-d523047acaf2",
    "papermill": {
     "duration": 0.081895,
     "end_time": "2023-12-04T16:39:13.617980",
     "exception": false,
     "start_time": "2023-12-04T16:39:13.536085",
     "status": "completed"
    },
    "tags": []
   },
   "source": [
    "##### After applying GridSearch, we got the best K (n_neighbors) value as 1, so we will be using the k= 1 for KNN Classifier algorithm"
   ]
  },
  {
   "cell_type": "markdown",
   "id": "unknown-folder",
   "metadata": {
    "_cell_guid": "78044822-50c2-4a9e-b72b-36b5b0e3a9f3",
    "_uuid": "92f7fbd1-af9f-422b-baeb-f18de54553dd",
    "papermill": {
     "duration": 0.082002,
     "end_time": "2023-12-04T16:39:13.783241",
     "exception": false,
     "start_time": "2023-12-04T16:39:13.701239",
     "status": "completed"
    },
    "tags": []
   },
   "source": [
    "### Visualizing the accuracy with different k values on sampled data"
   ]
  },
  {
   "cell_type": "code",
   "execution_count": 32,
   "id": "hungarian-fifteen",
   "metadata": {
    "ExecuteTime": {
     "end_time": "2021-04-05T08:00:34.842303Z",
     "start_time": "2021-04-05T08:00:31.955728Z"
    },
    "_cell_guid": "594e397b-6a75-4204-8f72-390ce02b1a38",
    "_uuid": "c927148e-7d05-45c5-84d8-fec141dd1123",
    "collapsed": false,
    "execution": {
     "iopub.execute_input": "2023-12-04T16:39:13.968704Z",
     "iopub.status.busy": "2023-12-04T16:39:13.967806Z",
     "iopub.status.idle": "2023-12-04T16:39:17.398637Z",
     "shell.execute_reply": "2023-12-04T16:39:17.397892Z"
    },
    "jupyter": {
     "outputs_hidden": false
    },
    "papermill": {
     "duration": 3.529258,
     "end_time": "2023-12-04T16:39:17.398835",
     "exception": false,
     "start_time": "2023-12-04T16:39:13.869577",
     "status": "completed"
    },
    "tags": []
   },
   "outputs": [
    {
     "data": {
      "image/png": "[encoded data removed]",
      "text/plain": [
       "<Figure size 432x288 with 1 Axes>"
      ]
     },
     "metadata": {
      "needs_background": "light"
     },
     "output_type": "display_data"
    }
   ],
   "source": [
    "import matplotlib.pyplot as plt \n",
    "%matplotlib inline\n",
    "# choose k between 1 to 41\n",
    "k_range = range(1, 41)\n",
    "k_scores = []\n",
    "# use iteration to caclulator different k in models, then return the average accuracy based on the cross validation\n",
    "for k in k_range:\n",
    "    knn = KNeighborsClassifier(n_neighbors=k)\n",
    "    scores = cross_val_score(knn, X_train, Y_train, cv=10)\n",
    "    k_scores.append(scores.mean())\n",
    "# plot to see clearly\n",
    "plt.plot(k_range, k_scores)\n",
    "plt.xlabel('Value of K for KNN')\n",
    "plt.ylabel('Cross-Validated Accuracy')\n",
    "plt.show()"
   ]
  },
  {
   "cell_type": "markdown",
   "id": "congressional-colorado",
   "metadata": {
    "_cell_guid": "e97487d9-7f66-496f-8b11-7da236ec19c1",
    "_uuid": "f45e4f1d-e3b9-47b9-92d4-df67a4fc909d",
    "papermill": {
     "duration": 0.083938,
     "end_time": "2023-12-04T16:39:17.567537",
     "exception": false,
     "start_time": "2023-12-04T16:39:17.483599",
     "status": "completed"
    },
    "tags": []
   },
   "source": [
    "##### The accuracy value is high for low values of k (less than 5) and it descreases as we increase values of k"
   ]
  },
  {
   "cell_type": "markdown",
   "id": "brief-threat",
   "metadata": {
    "_cell_guid": "2ff1a3f3-6eab-4527-b6d5-91e4b367d767",
    "_uuid": "8083fb30-1a65-4689-ad33-58fe9d816766",
    "papermill": {
     "duration": 0.083254,
     "end_time": "2023-12-04T16:39:17.734678",
     "exception": false,
     "start_time": "2023-12-04T16:39:17.651424",
     "status": "completed"
    },
    "tags": []
   },
   "source": [
    "# Using KNN with k=1 for model classification"
   ]
  },
  {
   "cell_type": "markdown",
   "id": "centered-gospel",
   "metadata": {
    "_cell_guid": "031a0a85-3f55-4a02-9a0b-13cabc4d0a69",
    "_uuid": "136c5720-0fbe-47e9-9d37-0d94d55b5e44",
    "papermill": {
     "duration": 0.083639,
     "end_time": "2023-12-04T16:39:17.901534",
     "exception": false,
     "start_time": "2023-12-04T16:39:17.817895",
     "status": "completed"
    },
    "tags": []
   },
   "source": [
    "##### We had identified the k=1 is best parameter with GridSearch so using k as 1"
   ]
  },
  {
   "cell_type": "code",
   "execution_count": 33,
   "id": "extended-folks",
   "metadata": {
    "ExecuteTime": {
     "end_time": "2021-04-05T08:00:58.736258Z",
     "start_time": "2021-04-05T08:00:58.70825Z"
    },
    "_cell_guid": "a02a8932-363c-4dac-8de5-1b05a7031a48",
    "_uuid": "e17ffd89-5a29-4dcf-9b31-bd4344306149",
    "collapsed": false,
    "execution": {
     "iopub.execute_input": "2023-12-04T16:39:18.074755Z",
     "iopub.status.busy": "2023-12-04T16:39:18.074026Z",
     "iopub.status.idle": "2023-12-04T16:39:18.098290Z",
     "shell.execute_reply": "2023-12-04T16:39:18.096869Z"
    },
    "jupyter": {
     "outputs_hidden": false
    },
    "papermill": {
     "duration": 0.110641,
     "end_time": "2023-12-04T16:39:18.098569",
     "exception": false,
     "start_time": "2023-12-04T16:39:17.987928",
     "status": "completed"
    },
    "tags": []
   },
   "outputs": [
    {
     "name": "stdout",
     "output_type": "stream",
     "text": [
      "1.0\n"
     ]
    }
   ],
   "source": [
    "model = KNeighborsClassifier(n_neighbors =1).fit(X_train,Y_train)\n",
    "y_pred = model.predict(X_test)\n",
    "accuracy = accuracy_score(Y_test,y_pred)\n",
    "print(accuracy)"
   ]
  },
  {
   "cell_type": "markdown",
   "id": "initial-cable",
   "metadata": {
    "_cell_guid": "60748d0c-7c09-4486-b0c0-6657d0e36ecd",
    "_uuid": "de08c17f-5f22-4447-95ef-c160a18bf3b2",
    "papermill": {
     "duration": 0.086953,
     "end_time": "2023-12-04T16:39:18.327135",
     "exception": false,
     "start_time": "2023-12-04T16:39:18.240182",
     "status": "completed"
    },
    "tags": []
   },
   "source": [
    "##### The accuracy is 1 which is 100% after applying sampling.  We will use confusion matrix and classification report to further check our accuracy"
   ]
  },
  {
   "cell_type": "code",
   "execution_count": 34,
   "id": "circular-orientation",
   "metadata": {
    "ExecuteTime": {
     "end_time": "2021-04-05T08:01:12.728776Z",
     "start_time": "2021-04-05T08:01:12.722424Z"
    },
    "_cell_guid": "deb166d5-41b5-4d7f-8add-c78feef0450c",
    "_uuid": "da75f08c-f4ee-46db-a847-610829871d39",
    "collapsed": false,
    "execution": {
     "iopub.execute_input": "2023-12-04T16:39:18.507064Z",
     "iopub.status.busy": "2023-12-04T16:39:18.506227Z",
     "iopub.status.idle": "2023-12-04T16:39:18.509462Z",
     "shell.execute_reply": "2023-12-04T16:39:18.510177Z"
    },
    "jupyter": {
     "outputs_hidden": false
    },
    "papermill": {
     "duration": 0.096602,
     "end_time": "2023-12-04T16:39:18.510379",
     "exception": false,
     "start_time": "2023-12-04T16:39:18.413777",
     "status": "completed"
    },
    "tags": []
   },
   "outputs": [
    {
     "name": "stdout",
     "output_type": "stream",
     "text": [
      "[[8 0 0 0 0 0 0]\n",
      " [0 8 0 0 0 0 0]\n",
      " [0 0 8 0 0 0 0]\n",
      " [0 0 0 8 0 0 0]\n",
      " [0 0 0 0 8 0 0]\n",
      " [0 0 0 0 0 9 0]\n",
      " [0 0 0 0 0 0 9]]\n"
     ]
    }
   ],
   "source": [
    "from sklearn.metrics import confusion_matrix\n",
    "confusion_matrix = confusion_matrix(Y_test,y_pred)\n",
    "print (confusion_matrix)"
   ]
  },
  {
   "cell_type": "code",
   "execution_count": 35,
   "id": "native-double",
   "metadata": {
    "ExecuteTime": {
     "end_time": "2021-04-05T08:01:28.337149Z",
     "start_time": "2021-04-05T08:01:28.323445Z"
    },
    "_cell_guid": "b380c819-0ccc-483e-a5f9-eb62d968ba9c",
    "_uuid": "be4e3320-13fb-4c7d-a17e-2734b3ddb04c",
    "collapsed": false,
    "execution": {
     "iopub.execute_input": "2023-12-04T16:39:18.688112Z",
     "iopub.status.busy": "2023-12-04T16:39:18.687030Z",
     "iopub.status.idle": "2023-12-04T16:39:18.697979Z",
     "shell.execute_reply": "2023-12-04T16:39:18.697213Z"
    },
    "jupyter": {
     "outputs_hidden": false
    },
    "papermill": {
     "duration": 0.101696,
     "end_time": "2023-12-04T16:39:18.698143",
     "exception": false,
     "start_time": "2023-12-04T16:39:18.596447",
     "status": "completed"
    },
    "tags": []
   },
   "outputs": [
    {
     "name": "stdout",
     "output_type": "stream",
     "text": [
      "              precision    recall  f1-score   support\n",
      "\n",
      "           1       1.00      1.00      1.00         8\n",
      "           2       1.00      1.00      1.00         8\n",
      "           3       1.00      1.00      1.00         8\n",
      "           4       1.00      1.00      1.00         8\n",
      "           5       1.00      1.00      1.00         8\n",
      "           6       1.00      1.00      1.00         9\n",
      "           7       1.00      1.00      1.00         9\n",
      "\n",
      "    accuracy                           1.00        58\n",
      "   macro avg       1.00      1.00      1.00        58\n",
      "weighted avg       1.00      1.00      1.00        58\n",
      "\n"
     ]
    }
   ],
   "source": [
    "print(classification_report(Y_test,y_pred))"
   ]
  },
  {
   "cell_type": "markdown",
   "id": "timely-cleaners",
   "metadata": {
    "_cell_guid": "af805651-8787-48ed-a363-5bf66cc2002e",
    "_uuid": "8a5b24ad-5874-46ce-9f86-951815d5d9a3",
    "papermill": {
     "duration": 0.085912,
     "end_time": "2023-12-04T16:39:18.869663",
     "exception": false,
     "start_time": "2023-12-04T16:39:18.783751",
     "status": "completed"
    },
    "tags": []
   },
   "source": [
    "##### We could see the precision and recall values is 1 for all 7 types which is an excellent score."
   ]
  },
  {
   "cell_type": "code",
   "execution_count": null,
   "id": "recorded-lewis",
   "metadata": {
    "_cell_guid": "aa812d5a-fd20-4eab-a424-a0be171411ed",
    "_uuid": "22402da7-4997-4481-bb99-43a34b58f76e",
    "collapsed": false,
    "jupyter": {
     "outputs_hidden": false
    },
    "papermill": {
     "duration": 0.085187,
     "end_time": "2023-12-04T16:39:19.040764",
     "exception": false,
     "start_time": "2023-12-04T16:39:18.955577",
     "status": "completed"
    },
    "tags": []
   },
   "outputs": [],
   "source": []
  }
 ],
 "metadata": {
  "kaggle": {
   "accelerator": "none",
   "dataSources": [
    {
     "datasetId": 586,
     "sourceId": 1114,
     "sourceType": "datasetVersion"
    }
   ],
   "dockerImageVersionId": 30085,
   "isGpuEnabled": false,
   "isInternetEnabled": false,
   "language": "python",
   "sourceType": "notebook"
  },
  "kernelspec": {
   "display_name": "Python 3",
   "language": "python",
   "name": "python3"
  },
  "language_info": {
   "codemirror_mode": {
    "name": "ipython",
    "version": 3
   },
   "file_extension": ".py",
   "mimetype": "text/x-python",
   "name": "python",
   "nbconvert_exporter": "python",
   "pygments_lexer": "ipython3",
   "version": "3.7.9"
  },
  "papermill": {
   "default_parameters": {},
   "duration": 33.570188,
   "end_time": "2023-12-04T16:39:19.838293",
   "environment_variables": {},
   "exception": null,
   "input_path": "__notebook__.ipynb",
   "output_path": "__notebook__.ipynb",
   "parameters": {},
   "start_time": "2023-12-04T16:38:46.268105",
   "version": "2.3.2"
  }
 },
 "nbformat": 4,
 "nbformat_minor": 5
}
